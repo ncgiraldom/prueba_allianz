{
 "cells": [
  {
   "cell_type": "markdown",
   "id": "1b9921f5",
   "metadata": {},
   "source": [
    "## Allianz EDA\n",
    "### Prueba Técnica para Científico de Datos\n",
    "Norma Giraldo"
   ]
  },
  {
   "cell_type": "code",
   "execution_count": null,
   "id": "3ba0074e",
   "metadata": {},
   "outputs": [],
   "source": [
    "# importar bibliotecas\n",
    "import pandas as pd\n",
    "import numpy as np\n",
    "import matplotlib.pyplot as plt\n",
    "import seaborn as sns\n",
    "from pathlib import Path\n",
    "import sys\n",
    "import os\n",
    "pd.set_option('display.max_columns', None)\n",
    "sns.set(style=\"whitegrid\")\n",
    "%matplotlib inline\n",
    "plt.rcParams[\"figure.figsize\"] = (12, 6)\n",
    "sns.set_palette(\"muted\")  # o \"deep\", \"pastel\", \"dark\"\n",
    "import plotly.express as px\n",
    "import plotly.graph_objects as go"
   ]
  },
  {
   "cell_type": "code",
   "execution_count": 1,
   "id": "85bb9a27",
   "metadata": {},
   "outputs": [],
   "source": [
    "# adicionar directorio src a sys.path\n",
    "project_root = os.path.abspath(\"..\")\n",
    "src_path = os.path.join(project_root, \"src\")\n",
    "if src_path not in sys.path:\n",
    "    sys.path.append(src_path)"
   ]
  },
  {
   "cell_type": "code",
   "execution_count": 2,
   "id": "246610b7",
   "metadata": {},
   "outputs": [
    {
     "name": "stdout",
     "output_type": "stream",
     "text": [
      "<class 'pandas.core.frame.DataFrame'>\n",
      "RangeIndex: 2087581 entries, 0 to 2087580\n",
      "Data columns (total 32 columns):\n",
      " #   Column                     Dtype \n",
      "---  ------                     ----- \n",
      " 0   fecha_registro             object\n",
      " 1   comparison_id              object\n",
      " 2   fecha_nacimiento           object\n",
      " 3   edad                       object\n",
      " 4   ocupacion                  object\n",
      " 5   tipo_identificacion        object\n",
      " 6   genero                     object\n",
      " 7   fasecolda_id               object\n",
      " 8   marca                      object\n",
      " 9   clase                      object\n",
      " 10  referencia_vehiculo        object\n",
      " 11  vehiculo_uso               object\n",
      " 12  tipo_caja                  object\n",
      " 13  valor_fasecolda            object\n",
      " 14  modelo                     object\n",
      " 15  dane_id                    object\n",
      " 16  ciudad                     object\n",
      " 17  departamento_id            object\n",
      " 18  departamento               object\n",
      " 19  vehiculo_nuevo             object\n",
      " 20  aseguradora_producto       object\n",
      " 21  competencia                object\n",
      " 22  cotizacion_fecha           object\n",
      " 23  valor_prima                object\n",
      " 24  tipo_cobertura             object\n",
      " 25  rce                        object\n",
      " 26  perdida_total_cobertura    object\n",
      " 27  perdida_parcial_deducible  object\n",
      " 28  rce_limite_unico           object\n",
      " 29  emitido_producto           object\n",
      " 30  emitido_cotizacion         object\n",
      " 31  source_file                object\n",
      "dtypes: object(32)\n",
      "memory usage: 509.7+ MB\n"
     ]
    }
   ],
   "source": [
    "from preprocessing import format_columns, apply_filters, clean_text_columns\n",
    "\n",
    "# Ruta datos consolidados\n",
    "data_path = \"C:/Allianz/prueba_allianz/data/processed/allianz_consolidado.csv\"\n",
    "\n",
    "# Cargar datos consolidados\n",
    "df_all = pd.read_csv(data_path, sep=\";\", encoding=\"utf-8\", dtype=str)\n",
    "df_all.info()"
   ]
  },
  {
   "cell_type": "code",
   "execution_count": 3,
   "id": "b9b67d32",
   "metadata": {},
   "outputs": [
    {
     "name": "stdout",
     "output_type": "stream",
     "text": [
      "<class 'pandas.core.frame.DataFrame'>\n",
      "RangeIndex: 684316 entries, 0 to 684315\n",
      "Data columns (total 32 columns):\n",
      " #   Column                     Non-Null Count   Dtype  \n",
      "---  ------                     --------------   -----  \n",
      " 0   fecha_registro             684316 non-null  object \n",
      " 1   comparison_id              684316 non-null  object \n",
      " 2   fecha_nacimiento           582229 non-null  object \n",
      " 3   edad                       684316 non-null  int64  \n",
      " 4   ocupacion                  684316 non-null  object \n",
      " 5   tipo_identificacion        684316 non-null  object \n",
      " 6   genero                     684316 non-null  object \n",
      " 7   fasecolda_id               684316 non-null  object \n",
      " 8   marca                      684316 non-null  object \n",
      " 9   clase                      684316 non-null  object \n",
      " 10  referencia_vehiculo        684316 non-null  object \n",
      " 11  vehiculo_uso               684316 non-null  object \n",
      " 12  tipo_caja                  684105 non-null  object \n",
      " 13  valor_fasecolda            684316 non-null  int64  \n",
      " 14  modelo                     684316 non-null  int64  \n",
      " 15  dane_id                    684316 non-null  object \n",
      " 16  ciudad                     684310 non-null  object \n",
      " 17  departamento_id            684316 non-null  object \n",
      " 18  departamento               684310 non-null  object \n",
      " 19  vehiculo_nuevo             684316 non-null  object \n",
      " 20  aseguradora_producto       684316 non-null  object \n",
      " 21  competencia                639620 non-null  object \n",
      " 22  cotizacion_fecha           684316 non-null  object \n",
      " 23  valor_prima                684316 non-null  float64\n",
      " 24  tipo_cobertura             684316 non-null  object \n",
      " 25  rce                        684316 non-null  object \n",
      " 26  perdida_total_cobertura    665481 non-null  object \n",
      " 27  perdida_parcial_deducible  684316 non-null  object \n",
      " 28  rce_limite_unico           684316 non-null  bool   \n",
      " 29  emitido_producto           163291 non-null  object \n",
      " 30  emitido_cotizacion         684316 non-null  bool   \n",
      " 31  source_file                684316 non-null  object \n",
      "dtypes: bool(2), float64(1), int64(3), object(26)\n",
      "memory usage: 157.9+ MB\n"
     ]
    }
   ],
   "source": [
    "# Formatea las columnas\n",
    "df_all = format_columns(df_all)\n",
    "# Depura textos en columnas\n",
    "df_all = clean_text_columns(df_all)\n",
    "# Filtros de datos solicitados\n",
    "df_filtered = apply_filters(df_all)\n",
    "df_filtered = df_filtered.reset_index(drop=True)\n",
    "df_filtered.info()"
   ]
  },
  {
   "cell_type": "markdown",
   "id": "c7290521",
   "metadata": {},
   "source": [
    "### Evaluar Datos faltantes"
   ]
  },
  {
   "cell_type": "code",
   "execution_count": 4,
   "id": "db7aec57",
   "metadata": {},
   "outputs": [
    {
     "data": {
      "text/html": [
       "<div>\n",
       "<style scoped>\n",
       "    .dataframe tbody tr th:only-of-type {\n",
       "        vertical-align: middle;\n",
       "    }\n",
       "\n",
       "    .dataframe tbody tr th {\n",
       "        vertical-align: top;\n",
       "    }\n",
       "\n",
       "    .dataframe thead th {\n",
       "        text-align: right;\n",
       "    }\n",
       "</style>\n",
       "<table border=\"1\" class=\"dataframe\">\n",
       "  <thead>\n",
       "    <tr style=\"text-align: right;\">\n",
       "      <th></th>\n",
       "      <th>faltantes</th>\n",
       "      <th>porcentaje</th>\n",
       "    </tr>\n",
       "  </thead>\n",
       "  <tbody>\n",
       "    <tr>\n",
       "      <th>emitido_producto</th>\n",
       "      <td>521025</td>\n",
       "      <td>76.14</td>\n",
       "    </tr>\n",
       "    <tr>\n",
       "      <th>fecha_nacimiento</th>\n",
       "      <td>102087</td>\n",
       "      <td>14.92</td>\n",
       "    </tr>\n",
       "    <tr>\n",
       "      <th>competencia</th>\n",
       "      <td>44696</td>\n",
       "      <td>6.53</td>\n",
       "    </tr>\n",
       "    <tr>\n",
       "      <th>perdida_total_cobertura</th>\n",
       "      <td>18835</td>\n",
       "      <td>2.75</td>\n",
       "    </tr>\n",
       "    <tr>\n",
       "      <th>tipo_caja</th>\n",
       "      <td>211</td>\n",
       "      <td>0.03</td>\n",
       "    </tr>\n",
       "    <tr>\n",
       "      <th>ciudad</th>\n",
       "      <td>6</td>\n",
       "      <td>0.00</td>\n",
       "    </tr>\n",
       "    <tr>\n",
       "      <th>departamento</th>\n",
       "      <td>6</td>\n",
       "      <td>0.00</td>\n",
       "    </tr>\n",
       "  </tbody>\n",
       "</table>\n",
       "</div>"
      ],
      "text/plain": [
       "                         faltantes  porcentaje\n",
       "emitido_producto            521025       76.14\n",
       "fecha_nacimiento            102087       14.92\n",
       "competencia                  44696        6.53\n",
       "perdida_total_cobertura      18835        2.75\n",
       "tipo_caja                      211        0.03\n",
       "ciudad                           6        0.00\n",
       "departamento                     6        0.00"
      ]
     },
     "execution_count": 4,
     "metadata": {},
     "output_type": "execute_result"
    }
   ],
   "source": [
    "faltantes = df_filtered.isnull().sum()\n",
    "faltantes = faltantes[faltantes > 0].sort_values(ascending=False)\n",
    "\n",
    "faltantes_percent = (faltantes / len(df_filtered) * 100).round(2)\n",
    "\n",
    "df_nulos = pd.DataFrame({\n",
    "    'faltantes': faltantes,\n",
    "    'porcentaje': faltantes_percent\n",
    "})\n",
    "\n",
    "df_nulos"
   ]
  },
  {
   "cell_type": "markdown",
   "id": "8d0e456a",
   "metadata": {},
   "source": [
    "Acciones a tomar:\n",
    "\n",
    "- emitido_producto: Posible target dicotomico emitido - no emitido\n",
    "- fecha_nacimiento: Eliminar por redundancia con edad.\n",
    "- competencia: No se considera relevante\n",
    "- perdida_total_cobertura: Proceso de imputacion de datos mediante modelo de clasificación\n",
    "- tipo_caja: Imputar NaN por No_disponible\n",
    "- ciudad: Corregir error de digitacion en dane_id = IBAGUE\n",
    "- departamento: se extrae de la ciudad"
   ]
  },
  {
   "cell_type": "markdown",
   "id": "2ff7f257",
   "metadata": {},
   "source": [
    "### Imputación de datos"
   ]
  },
  {
   "cell_type": "code",
   "execution_count": 5,
   "id": "e860604b",
   "metadata": {},
   "outputs": [],
   "source": [
    "# Completar información faltante en ciudad y departamento\n",
    "df_filtered.loc[df_filtered['dane_id'] == 'IBAGUE', 'dane_id'] = '73001'\n",
    "df_filtered.loc[df_filtered['dane_id'] == '73001', 'ciudad'] = 'Ibagué'\n",
    "df_filtered.loc[df_filtered['dane_id'] == '73001', 'departamento'] = 'Tolima'\n",
    "df_filtered.loc[df_filtered['dane_id'] == '73001', 'departamento_id'] = '73'"
   ]
  },
  {
   "cell_type": "code",
   "execution_count": 6,
   "id": "5165bc8d",
   "metadata": {},
   "outputs": [],
   "source": [
    "df_filtered['tipo_caja'] = df_filtered['tipo_caja'].fillna(\"No_disponible\")"
   ]
  },
  {
   "cell_type": "code",
   "execution_count": 7,
   "id": "27a7fd7c",
   "metadata": {},
   "outputs": [
    {
     "name": "stderr",
     "output_type": "stream",
     "text": [
      "c:\\Allianz\\prueba_allianz\\src\\imput_data.py:84: UserWarning: Glyph 128202 (\\N{BAR CHART}) missing from font(s) Arial.\n",
      "  plt.tight_layout()\n",
      "c:\\Allianz\\prueba_allianz\\venv\\Lib\\site-packages\\IPython\\core\\pylabtools.py:170: UserWarning: Glyph 128202 (\\N{BAR CHART}) missing from font(s) Arial.\n",
      "  fig.canvas.print_figure(bytes_io, **kw)\n"
     ]
    },
    {
     "data": {
      "image/png": "[encoded data removed]",
      "text/plain": [
       "<Figure size 800x400 with 1 Axes>"
      ]
     },
     "metadata": {},
     "output_type": "display_data"
    },
    {
     "data": {
      "text/html": [
       "<div>\n",
       "<style scoped>\n",
       "    .dataframe tbody tr th:only-of-type {\n",
       "        vertical-align: middle;\n",
       "    }\n",
       "\n",
       "    .dataframe tbody tr th {\n",
       "        vertical-align: top;\n",
       "    }\n",
       "\n",
       "    .dataframe thead th {\n",
       "        text-align: right;\n",
       "    }\n",
       "</style>\n",
       "<table border=\"1\" class=\"dataframe\">\n",
       "  <thead>\n",
       "    <tr style=\"text-align: right;\">\n",
       "      <th></th>\n",
       "      <th>Antes imputación</th>\n",
       "      <th>Después imputación</th>\n",
       "    </tr>\n",
       "    <tr>\n",
       "      <th>perdida_total_cobertura</th>\n",
       "      <th></th>\n",
       "      <th></th>\n",
       "    </tr>\n",
       "  </thead>\n",
       "  <tbody>\n",
       "    <tr>\n",
       "      <th>IGUAL</th>\n",
       "      <td>82.97</td>\n",
       "      <td>85.69</td>\n",
       "    </tr>\n",
       "    <tr>\n",
       "      <th>SUPERIOR</th>\n",
       "      <td>14.28</td>\n",
       "      <td>14.31</td>\n",
       "    </tr>\n",
       "    <tr>\n",
       "      <th>NaN</th>\n",
       "      <td>2.75</td>\n",
       "      <td>0.00</td>\n",
       "    </tr>\n",
       "  </tbody>\n",
       "</table>\n",
       "</div>"
      ],
      "text/plain": [
       "                         Antes imputación  Después imputación\n",
       "perdida_total_cobertura                                      \n",
       "IGUAL                               82.97               85.69\n",
       "SUPERIOR                            14.28               14.31\n",
       "NaN                                  2.75                0.00"
      ]
     },
     "execution_count": 7,
     "metadata": {},
     "output_type": "execute_result"
    }
   ],
   "source": [
    "from imput_data import imputar_perdida_total_cobertura, reporte_imputacion_distribucion\n",
    "\n",
    "# Guardar copia antes de imputar\n",
    "df_original = df_filtered.copy()\n",
    "\n",
    "features = [\n",
    "    'edad', 'genero', 'ocupacion', 'valor_prima', 'modelo', 'ciudad', 'marca',\n",
    "    'aseguradora_producto', 'tipo_cobertura', 'vehiculo_nuevo', 'perdida_parcial_deducible'\n",
    "]\n",
    "\n",
    "# Aplicar imputación\n",
    "df_filtered = imputar_perdida_total_cobertura(df_filtered, target='perdida_total_cobertura', features=features)\n",
    "\n",
    "# Generar reporte gráfico y tabla\n",
    "reporte_imputacion_distribucion(df_original, df_filtered, columna='perdida_total_cobertura')\n"
   ]
  },
  {
   "cell_type": "code",
   "execution_count": 9,
   "id": "065e224f",
   "metadata": {},
   "outputs": [],
   "source": [
    "df_filtered.drop(columns=['competencia'], inplace=True)"
   ]
  },
  {
   "cell_type": "markdown",
   "id": "82602cc8",
   "metadata": {},
   "source": [
    "### Columnas de único valor o redundantes"
   ]
  },
  {
   "cell_type": "code",
   "execution_count": 10,
   "id": "ac9ac442",
   "metadata": {},
   "outputs": [
    {
     "name": "stdout",
     "output_type": "stream",
     "text": [
      "⚠️ Variables con un único valor: ['clase', 'vehiculo_uso', 'tipo_cobertura', 'rce']\n"
     ]
    }
   ],
   "source": [
    "solo_un_valor = df_filtered.nunique()\n",
    "variables_inutiles = solo_un_valor[solo_un_valor == 1].index.tolist()\n",
    "print(\"⚠️ Variables con un único valor:\", variables_inutiles)"
   ]
  },
  {
   "cell_type": "code",
   "execution_count": 11,
   "id": "28e811eb",
   "metadata": {},
   "outputs": [
    {
     "name": "stdout",
     "output_type": "stream",
     "text": [
      "<class 'pandas.core.frame.DataFrame'>\n",
      "RangeIndex: 684316 entries, 0 to 684315\n",
      "Data columns (total 27 columns):\n",
      " #   Column                     Non-Null Count   Dtype  \n",
      "---  ------                     --------------   -----  \n",
      " 0   fecha_registro             684316 non-null  object \n",
      " 1   comparison_id              684316 non-null  object \n",
      " 2   fecha_nacimiento           582229 non-null  object \n",
      " 3   edad                       684316 non-null  int64  \n",
      " 4   ocupacion                  684316 non-null  object \n",
      " 5   tipo_identificacion        684316 non-null  object \n",
      " 6   genero                     684316 non-null  object \n",
      " 7   fasecolda_id               684316 non-null  object \n",
      " 8   marca                      684316 non-null  object \n",
      " 9   referencia_vehiculo        684316 non-null  object \n",
      " 10  tipo_caja                  684316 non-null  object \n",
      " 11  valor_fasecolda            684316 non-null  int64  \n",
      " 12  modelo                     684316 non-null  int64  \n",
      " 13  dane_id                    684316 non-null  object \n",
      " 14  ciudad                     684316 non-null  object \n",
      " 15  departamento_id            684316 non-null  object \n",
      " 16  departamento               684316 non-null  object \n",
      " 17  vehiculo_nuevo             684316 non-null  object \n",
      " 18  aseguradora_producto       684316 non-null  object \n",
      " 19  cotizacion_fecha           684316 non-null  object \n",
      " 20  valor_prima                684316 non-null  float64\n",
      " 21  perdida_total_cobertura    684316 non-null  object \n",
      " 22  perdida_parcial_deducible  684316 non-null  object \n",
      " 23  rce_limite_unico           684316 non-null  bool   \n",
      " 24  emitido_producto           163291 non-null  object \n",
      " 25  emitido_cotizacion         684316 non-null  bool   \n",
      " 26  source_file                684316 non-null  object \n",
      "dtypes: bool(2), float64(1), int64(3), object(21)\n",
      "memory usage: 131.8+ MB\n"
     ]
    }
   ],
   "source": [
    "df_filtered.drop(columns=['clase', 'vehiculo_uso', 'tipo_cobertura', 'rce'], inplace=True)\n",
    "df_filtered.info()"
   ]
  },
  {
   "cell_type": "code",
   "execution_count": 12,
   "id": "a15bf4f7",
   "metadata": {},
   "outputs": [],
   "source": [
    "# Almacenar el DataFrame inicial para futuras comparaciones\n",
    "df_initial = df_filtered.copy()"
   ]
  },
  {
   "cell_type": "markdown",
   "id": "ec42094a",
   "metadata": {},
   "source": [
    "### Tratamiento de las columnas fecha"
   ]
  },
  {
   "cell_type": "code",
   "execution_count": 13,
   "id": "e4d85dce",
   "metadata": {},
   "outputs": [
    {
     "data": {
      "text/html": [
       "<div>\n",
       "<style scoped>\n",
       "    .dataframe tbody tr th:only-of-type {\n",
       "        vertical-align: middle;\n",
       "    }\n",
       "\n",
       "    .dataframe tbody tr th {\n",
       "        vertical-align: top;\n",
       "    }\n",
       "\n",
       "    .dataframe thead th {\n",
       "        text-align: right;\n",
       "    }\n",
       "</style>\n",
       "<table border=\"1\" class=\"dataframe\">\n",
       "  <thead>\n",
       "    <tr style=\"text-align: right;\">\n",
       "      <th></th>\n",
       "      <th>fecha_registro</th>\n",
       "      <th>comparison_id</th>\n",
       "      <th>fecha_nacimiento</th>\n",
       "      <th>edad</th>\n",
       "      <th>ocupacion</th>\n",
       "      <th>tipo_identificacion</th>\n",
       "      <th>genero</th>\n",
       "      <th>fasecolda_id</th>\n",
       "      <th>marca</th>\n",
       "      <th>referencia_vehiculo</th>\n",
       "      <th>tipo_caja</th>\n",
       "      <th>valor_fasecolda</th>\n",
       "      <th>modelo</th>\n",
       "      <th>dane_id</th>\n",
       "      <th>ciudad</th>\n",
       "      <th>departamento_id</th>\n",
       "      <th>departamento</th>\n",
       "      <th>vehiculo_nuevo</th>\n",
       "      <th>aseguradora_producto</th>\n",
       "      <th>cotizacion_fecha</th>\n",
       "      <th>valor_prima</th>\n",
       "      <th>perdida_total_cobertura</th>\n",
       "      <th>perdida_parcial_deducible</th>\n",
       "      <th>rce_limite_unico</th>\n",
       "      <th>emitido_producto</th>\n",
       "      <th>emitido_cotizacion</th>\n",
       "      <th>source_file</th>\n",
       "    </tr>\n",
       "  </thead>\n",
       "  <tbody>\n",
       "    <tr>\n",
       "      <th>495841</th>\n",
       "      <td>2024-09-04T16:44:37.534Z</td>\n",
       "      <td>2dd57d00c07bd24b504d9f834028481e</td>\n",
       "      <td>0199-02-23</td>\n",
       "      <td>1825</td>\n",
       "      <td>Empleado</td>\n",
       "      <td>CC</td>\n",
       "      <td>Masculino</td>\n",
       "      <td>05601186</td>\n",
       "      <td>MAZDA</td>\n",
       "      <td>3 [4] GRAND TOURING LX TP 2500CC 7AB CT TC (AU...</td>\n",
       "      <td>TP</td>\n",
       "      <td>94000000</td>\n",
       "      <td>2022</td>\n",
       "      <td>76001</td>\n",
       "      <td>Cali</td>\n",
       "      <td>76</td>\n",
       "      <td>Valle del Cauca</td>\n",
       "      <td>Usado</td>\n",
       "      <td>Aseguradora8_Todo Riesgo Bajo</td>\n",
       "      <td>2024-09-04T16:49:22.957811349Z</td>\n",
       "      <td>8376354.0</td>\n",
       "      <td>IGUAL</td>\n",
       "      <td>INFERIOR</td>\n",
       "      <td>True</td>\n",
       "      <td>NaN</td>\n",
       "      <td>False</td>\n",
       "      <td>2024-9</td>\n",
       "    </tr>\n",
       "    <tr>\n",
       "      <th>495842</th>\n",
       "      <td>2024-09-04T16:44:37.534Z</td>\n",
       "      <td>2dd57d00c07bd24b504d9f834028481e</td>\n",
       "      <td>0199-02-23</td>\n",
       "      <td>1825</td>\n",
       "      <td>Empleado</td>\n",
       "      <td>CC</td>\n",
       "      <td>Masculino</td>\n",
       "      <td>05601186</td>\n",
       "      <td>MAZDA</td>\n",
       "      <td>3 [4] GRAND TOURING LX TP 2500CC 7AB CT TC (AU...</td>\n",
       "      <td>TP</td>\n",
       "      <td>94000000</td>\n",
       "      <td>2022</td>\n",
       "      <td>76001</td>\n",
       "      <td>Cali</td>\n",
       "      <td>76</td>\n",
       "      <td>Valle del Cauca</td>\n",
       "      <td>Usado</td>\n",
       "      <td>Aseguradora8_Todo Riesgo Bajo</td>\n",
       "      <td>2024-09-04T16:49:22.957643146Z</td>\n",
       "      <td>8074777.2</td>\n",
       "      <td>IGUAL</td>\n",
       "      <td>INFERIOR</td>\n",
       "      <td>True</td>\n",
       "      <td>NaN</td>\n",
       "      <td>False</td>\n",
       "      <td>2024-9</td>\n",
       "    </tr>\n",
       "    <tr>\n",
       "      <th>495843</th>\n",
       "      <td>2024-09-04T16:44:37.534Z</td>\n",
       "      <td>2dd57d00c07bd24b504d9f834028481e</td>\n",
       "      <td>0199-02-23</td>\n",
       "      <td>1825</td>\n",
       "      <td>Empleado</td>\n",
       "      <td>CC</td>\n",
       "      <td>Masculino</td>\n",
       "      <td>05601186</td>\n",
       "      <td>MAZDA</td>\n",
       "      <td>3 [4] GRAND TOURING LX TP 2500CC 7AB CT TC (AU...</td>\n",
       "      <td>TP</td>\n",
       "      <td>94000000</td>\n",
       "      <td>2022</td>\n",
       "      <td>76001</td>\n",
       "      <td>Cali</td>\n",
       "      <td>76</td>\n",
       "      <td>Valle del Cauca</td>\n",
       "      <td>Usado</td>\n",
       "      <td>Aseguradora8_Todo Riesgo Alto</td>\n",
       "      <td>2024-09-04T16:49:22.957750836Z</td>\n",
       "      <td>8182664.4</td>\n",
       "      <td>IGUAL</td>\n",
       "      <td>INFERIOR</td>\n",
       "      <td>True</td>\n",
       "      <td>NaN</td>\n",
       "      <td>False</td>\n",
       "      <td>2024-9</td>\n",
       "    </tr>\n",
       "    <tr>\n",
       "      <th>495844</th>\n",
       "      <td>2024-09-04T16:44:37.534Z</td>\n",
       "      <td>2dd57d00c07bd24b504d9f834028481e</td>\n",
       "      <td>0199-02-23</td>\n",
       "      <td>1825</td>\n",
       "      <td>Empleado</td>\n",
       "      <td>CC</td>\n",
       "      <td>Masculino</td>\n",
       "      <td>05601186</td>\n",
       "      <td>MAZDA</td>\n",
       "      <td>3 [4] GRAND TOURING LX TP 2500CC 7AB CT TC (AU...</td>\n",
       "      <td>TP</td>\n",
       "      <td>94000000</td>\n",
       "      <td>2022</td>\n",
       "      <td>76001</td>\n",
       "      <td>Cali</td>\n",
       "      <td>76</td>\n",
       "      <td>Valle del Cauca</td>\n",
       "      <td>Usado</td>\n",
       "      <td>Aseguradora8_Todo Riesgo Bajo</td>\n",
       "      <td>2024-09-04T16:49:22.957967367Z</td>\n",
       "      <td>7682679.6</td>\n",
       "      <td>IGUAL</td>\n",
       "      <td>INFERIOR</td>\n",
       "      <td>True</td>\n",
       "      <td>NaN</td>\n",
       "      <td>False</td>\n",
       "      <td>2024-9</td>\n",
       "    </tr>\n",
       "    <tr>\n",
       "      <th>495845</th>\n",
       "      <td>2024-09-04T16:44:37.534Z</td>\n",
       "      <td>2dd57d00c07bd24b504d9f834028481e</td>\n",
       "      <td>0199-02-23</td>\n",
       "      <td>1825</td>\n",
       "      <td>Empleado</td>\n",
       "      <td>CC</td>\n",
       "      <td>Masculino</td>\n",
       "      <td>05601186</td>\n",
       "      <td>MAZDA</td>\n",
       "      <td>3 [4] GRAND TOURING LX TP 2500CC 7AB CT TC (AU...</td>\n",
       "      <td>TP</td>\n",
       "      <td>94000000</td>\n",
       "      <td>2022</td>\n",
       "      <td>76001</td>\n",
       "      <td>Cali</td>\n",
       "      <td>76</td>\n",
       "      <td>Valle del Cauca</td>\n",
       "      <td>Usado</td>\n",
       "      <td>Aseguradora8_Todo Riesgo Alto</td>\n",
       "      <td>2024-09-04T16:49:22.957898636Z</td>\n",
       "      <td>7876369.2</td>\n",
       "      <td>IGUAL</td>\n",
       "      <td>INFERIOR</td>\n",
       "      <td>True</td>\n",
       "      <td>NaN</td>\n",
       "      <td>False</td>\n",
       "      <td>2024-9</td>\n",
       "    </tr>\n",
       "  </tbody>\n",
       "</table>\n",
       "</div>"
      ],
      "text/plain": [
       "                  fecha_registro                     comparison_id  \\\n",
       "495841  2024-09-04T16:44:37.534Z  2dd57d00c07bd24b504d9f834028481e   \n",
       "495842  2024-09-04T16:44:37.534Z  2dd57d00c07bd24b504d9f834028481e   \n",
       "495843  2024-09-04T16:44:37.534Z  2dd57d00c07bd24b504d9f834028481e   \n",
       "495844  2024-09-04T16:44:37.534Z  2dd57d00c07bd24b504d9f834028481e   \n",
       "495845  2024-09-04T16:44:37.534Z  2dd57d00c07bd24b504d9f834028481e   \n",
       "\n",
       "       fecha_nacimiento  edad ocupacion tipo_identificacion     genero  \\\n",
       "495841       0199-02-23  1825  Empleado                  CC  Masculino   \n",
       "495842       0199-02-23  1825  Empleado                  CC  Masculino   \n",
       "495843       0199-02-23  1825  Empleado                  CC  Masculino   \n",
       "495844       0199-02-23  1825  Empleado                  CC  Masculino   \n",
       "495845       0199-02-23  1825  Empleado                  CC  Masculino   \n",
       "\n",
       "       fasecolda_id  marca                                referencia_vehiculo  \\\n",
       "495841     05601186  MAZDA  3 [4] GRAND TOURING LX TP 2500CC 7AB CT TC (AU...   \n",
       "495842     05601186  MAZDA  3 [4] GRAND TOURING LX TP 2500CC 7AB CT TC (AU...   \n",
       "495843     05601186  MAZDA  3 [4] GRAND TOURING LX TP 2500CC 7AB CT TC (AU...   \n",
       "495844     05601186  MAZDA  3 [4] GRAND TOURING LX TP 2500CC 7AB CT TC (AU...   \n",
       "495845     05601186  MAZDA  3 [4] GRAND TOURING LX TP 2500CC 7AB CT TC (AU...   \n",
       "\n",
       "       tipo_caja  valor_fasecolda  modelo dane_id ciudad departamento_id  \\\n",
       "495841        TP         94000000    2022   76001   Cali              76   \n",
       "495842        TP         94000000    2022   76001   Cali              76   \n",
       "495843        TP         94000000    2022   76001   Cali              76   \n",
       "495844        TP         94000000    2022   76001   Cali              76   \n",
       "495845        TP         94000000    2022   76001   Cali              76   \n",
       "\n",
       "           departamento vehiculo_nuevo           aseguradora_producto  \\\n",
       "495841  Valle del Cauca          Usado  Aseguradora8_Todo Riesgo Bajo   \n",
       "495842  Valle del Cauca          Usado  Aseguradora8_Todo Riesgo Bajo   \n",
       "495843  Valle del Cauca          Usado  Aseguradora8_Todo Riesgo Alto   \n",
       "495844  Valle del Cauca          Usado  Aseguradora8_Todo Riesgo Bajo   \n",
       "495845  Valle del Cauca          Usado  Aseguradora8_Todo Riesgo Alto   \n",
       "\n",
       "                      cotizacion_fecha  valor_prima perdida_total_cobertura  \\\n",
       "495841  2024-09-04T16:49:22.957811349Z    8376354.0                   IGUAL   \n",
       "495842  2024-09-04T16:49:22.957643146Z    8074777.2                   IGUAL   \n",
       "495843  2024-09-04T16:49:22.957750836Z    8182664.4                   IGUAL   \n",
       "495844  2024-09-04T16:49:22.957967367Z    7682679.6                   IGUAL   \n",
       "495845  2024-09-04T16:49:22.957898636Z    7876369.2                   IGUAL   \n",
       "\n",
       "       perdida_parcial_deducible  rce_limite_unico emitido_producto  \\\n",
       "495841                  INFERIOR              True              NaN   \n",
       "495842                  INFERIOR              True              NaN   \n",
       "495843                  INFERIOR              True              NaN   \n",
       "495844                  INFERIOR              True              NaN   \n",
       "495845                  INFERIOR              True              NaN   \n",
       "\n",
       "        emitido_cotizacion source_file  \n",
       "495841               False      2024-9  \n",
       "495842               False      2024-9  \n",
       "495843               False      2024-9  \n",
       "495844               False      2024-9  \n",
       "495845               False      2024-9  "
      ]
     },
     "execution_count": 13,
     "metadata": {},
     "output_type": "execute_result"
    }
   ],
   "source": [
    "# Visualizar registros con errores\n",
    "df_filtered[df_filtered['fecha_nacimiento'] == '0199-02-23']"
   ]
  },
  {
   "cell_type": "code",
   "execution_count": 14,
   "id": "8db8470e",
   "metadata": {},
   "outputs": [],
   "source": [
    "# Reemplazar '0199' por '1990' en la columna de fechas\n",
    "df_filtered['fecha_nacimiento'] = df_filtered['fecha_nacimiento'].str.replace('0199-02-23', '1990-02-23', regex=False)"
   ]
  },
  {
   "cell_type": "code",
   "execution_count": 15,
   "id": "4e1d7e26",
   "metadata": {},
   "outputs": [],
   "source": [
    "df_filtered['fecha_nacimiento'] = pd.to_datetime(df_filtered['fecha_nacimiento'], format='%Y-%m-%d')\n",
    "df_filtered['fecha_nacimiento'] = df_filtered['fecha_nacimiento'].dt.date"
   ]
  },
  {
   "cell_type": "code",
   "execution_count": 16,
   "id": "67b9e365",
   "metadata": {},
   "outputs": [],
   "source": [
    "df_filtered['fecha_registro'] = pd.to_datetime(df_filtered['fecha_registro'], format=\"mixed\")\n",
    "df_filtered['fecha_registro'] = df_filtered['fecha_registro'].dt.date"
   ]
  },
  {
   "cell_type": "code",
   "execution_count": 17,
   "id": "acb296d6",
   "metadata": {},
   "outputs": [],
   "source": [
    "df_filtered['cotizacion_fecha'] = pd.to_datetime(df_filtered['cotizacion_fecha'], format=\"mixed\")\n",
    "df_filtered['cotizacion_fecha'] = df_filtered['cotizacion_fecha'].dt.date"
   ]
  },
  {
   "cell_type": "code",
   "execution_count": 18,
   "id": "65f22009",
   "metadata": {},
   "outputs": [
    {
     "name": "stdout",
     "output_type": "stream",
     "text": [
      "<class 'pandas.core.frame.DataFrame'>\n",
      "RangeIndex: 684316 entries, 0 to 684315\n",
      "Data columns (total 27 columns):\n",
      " #   Column                     Non-Null Count   Dtype  \n",
      "---  ------                     --------------   -----  \n",
      " 0   fecha_registro             684316 non-null  object \n",
      " 1   comparison_id              684316 non-null  object \n",
      " 2   fecha_nacimiento           582229 non-null  object \n",
      " 3   edad                       684316 non-null  int64  \n",
      " 4   ocupacion                  684316 non-null  object \n",
      " 5   tipo_identificacion        684316 non-null  object \n",
      " 6   genero                     684316 non-null  object \n",
      " 7   fasecolda_id               684316 non-null  object \n",
      " 8   marca                      684316 non-null  object \n",
      " 9   referencia_vehiculo        684316 non-null  object \n",
      " 10  tipo_caja                  684316 non-null  object \n",
      " 11  valor_fasecolda            684316 non-null  int64  \n",
      " 12  modelo                     684316 non-null  int64  \n",
      " 13  dane_id                    684316 non-null  object \n",
      " 14  ciudad                     684316 non-null  object \n",
      " 15  departamento_id            684316 non-null  object \n",
      " 16  departamento               684316 non-null  object \n",
      " 17  vehiculo_nuevo             684316 non-null  object \n",
      " 18  aseguradora_producto       684316 non-null  object \n",
      " 19  cotizacion_fecha           684316 non-null  object \n",
      " 20  valor_prima                684316 non-null  float64\n",
      " 21  perdida_total_cobertura    684316 non-null  object \n",
      " 22  perdida_parcial_deducible  684316 non-null  object \n",
      " 23  rce_limite_unico           684316 non-null  bool   \n",
      " 24  emitido_producto           163291 non-null  object \n",
      " 25  emitido_cotizacion         684316 non-null  bool   \n",
      " 26  source_file                684316 non-null  object \n",
      "dtypes: bool(2), float64(1), int64(3), object(21)\n",
      "memory usage: 131.8+ MB\n"
     ]
    }
   ],
   "source": [
    "df_filtered.info()"
   ]
  },
  {
   "cell_type": "code",
   "execution_count": 19,
   "id": "b678f39c",
   "metadata": {},
   "outputs": [
    {
     "name": "stdout",
     "output_type": "stream",
     "text": [
      "📌 Coincidencias de fecha: 90.70137188082698 %\n"
     ]
    }
   ],
   "source": [
    "df_filtered['fecha_analisis'] = df_filtered['fecha_registro'] == df_filtered['cotizacion_fecha']\n",
    "print(\"📌 Coincidencias de fecha:\", df_filtered['fecha_analisis'].mean() * 100, \"%\")"
   ]
  },
  {
   "cell_type": "code",
   "execution_count": 20,
   "id": "498ec63b",
   "metadata": {},
   "outputs": [],
   "source": [
    "def analizar_diferencia_registro_cotizacion(df):\n",
    "    \"\"\"\n",
    "    Analiza y visualiza la diferencia entre fecha_registro y cotizacion_fecha.\n",
    "    Retorna resumen estadístico de delta_minutos.\n",
    "    \"\"\"\n",
    "    # Calcular diferencia en minutos\n",
    "    df['delta_minutos'] = (df['cotizacion_fecha'] - df['fecha_registro']).dt.total_seconds() / 60\n",
    "\n",
    "    # Eliminar valores extremos para visualización (percentil 99)\n",
    "    percentil_99 = df['delta_minutos'].quantile(0.99)\n",
    "    df_plot = df[df['delta_minutos'] <= percentil_99]\n",
    "\n",
    "    # Gráfico\n",
    "    plt.figure(figsize=(10, 5))\n",
    "    sns.histplot(df_plot['delta_minutos'], bins=50, kde=True)\n",
    "    plt.title(\"⏱ Distribución del tiempo entre registro y cotización (minutos)\")\n",
    "    plt.xlabel(\"Diferencia en minutos\")\n",
    "    plt.ylabel(\"Frecuencia\")\n",
    "    plt.tight_layout()\n",
    "    plt.show()\n",
    "\n",
    "    # Estadísticas descriptivas\n",
    "    return df['delta_minutos'].describe()"
   ]
  },
  {
   "cell_type": "code",
   "execution_count": 21,
   "id": "6d47ea20",
   "metadata": {},
   "outputs": [],
   "source": [
    "columnas_fechas = ['cotizacion_fecha', 'fecha_registro']\n",
    "\n",
    "for col in columnas_fechas:\n",
    "    df_filtered[col] = pd.to_datetime(df_filtered[col].astype(str))"
   ]
  },
  {
   "cell_type": "code",
   "execution_count": 22,
   "id": "5fffee6e",
   "metadata": {},
   "outputs": [
    {
     "name": "stderr",
     "output_type": "stream",
     "text": [
      "C:\\Users\\norma\\AppData\\Local\\Temp\\ipykernel_32728\\3563582690.py:19: UserWarning: Glyph 9201 (\\N{STOPWATCH}) missing from font(s) Arial.\n",
      "  plt.tight_layout()\n",
      "c:\\Allianz\\prueba_allianz\\venv\\Lib\\site-packages\\IPython\\core\\pylabtools.py:170: UserWarning: Glyph 9201 (\\N{STOPWATCH}) missing from font(s) Arial.\n",
      "  fig.canvas.print_figure(bytes_io, **kw)\n"
     ]
    },
    {
     "data": {
      "image/png": "[encoded data removed]",
      "text/plain": [
       "<Figure size 1000x500 with 1 Axes>"
      ]
     },
     "metadata": {},
     "output_type": "display_data"
    },
    {
     "data": {
      "text/plain": [
       "count    684316.000000\n",
       "mean       1086.758983\n",
       "std        4622.446538\n",
       "min           0.000000\n",
       "25%           0.000000\n",
       "50%           0.000000\n",
       "75%           0.000000\n",
       "max       43200.000000\n",
       "Name: delta_minutos, dtype: float64"
      ]
     },
     "execution_count": 22,
     "metadata": {},
     "output_type": "execute_result"
    }
   ],
   "source": [
    "analizar_diferencia_registro_cotizacion(df_filtered)"
   ]
  },
  {
   "cell_type": "code",
   "execution_count": 23,
   "id": "fcf20ce8",
   "metadata": {},
   "outputs": [
    {
     "name": "stdout",
     "output_type": "stream",
     "text": [
      "<class 'pandas.core.frame.DataFrame'>\n",
      "RangeIndex: 63632 entries, 0 to 63631\n",
      "Data columns (total 29 columns):\n",
      " #   Column                     Non-Null Count  Dtype         \n",
      "---  ------                     --------------  -----         \n",
      " 0   fecha_registro             63632 non-null  datetime64[ns]\n",
      " 1   comparison_id              63632 non-null  object        \n",
      " 2   fecha_nacimiento           52915 non-null  object        \n",
      " 3   edad                       63632 non-null  int64         \n",
      " 4   ocupacion                  63632 non-null  object        \n",
      " 5   tipo_identificacion        63632 non-null  object        \n",
      " 6   genero                     63632 non-null  object        \n",
      " 7   fasecolda_id               63632 non-null  object        \n",
      " 8   marca                      63632 non-null  object        \n",
      " 9   referencia_vehiculo        63632 non-null  object        \n",
      " 10  tipo_caja                  63632 non-null  object        \n",
      " 11  valor_fasecolda            63632 non-null  int64         \n",
      " 12  modelo                     63632 non-null  int64         \n",
      " 13  dane_id                    63632 non-null  object        \n",
      " 14  ciudad                     63632 non-null  object        \n",
      " 15  departamento_id            63632 non-null  object        \n",
      " 16  departamento               63632 non-null  object        \n",
      " 17  vehiculo_nuevo             63632 non-null  object        \n",
      " 18  aseguradora_producto       63632 non-null  object        \n",
      " 19  cotizacion_fecha           63632 non-null  datetime64[ns]\n",
      " 20  valor_prima                63632 non-null  float64       \n",
      " 21  perdida_total_cobertura    63632 non-null  object        \n",
      " 22  perdida_parcial_deducible  63632 non-null  object        \n",
      " 23  rce_limite_unico           63632 non-null  bool          \n",
      " 24  emitido_producto           32334 non-null  object        \n",
      " 25  emitido_cotizacion         63632 non-null  bool          \n",
      " 26  source_file                63632 non-null  object        \n",
      " 27  fecha_analisis             63632 non-null  bool          \n",
      " 28  delta_minutos              63632 non-null  float64       \n",
      "dtypes: bool(3), datetime64[ns](2), float64(2), int64(3), object(19)\n",
      "memory usage: 12.8+ MB\n"
     ]
    }
   ],
   "source": [
    "# Revisar diferencias grandes\n",
    "diff = df_filtered[df_filtered['delta_minutos'] > 0].reset_index(drop=True)\n",
    "diff.info()"
   ]
  },
  {
   "cell_type": "code",
   "execution_count": 24,
   "id": "ed38f345",
   "metadata": {},
   "outputs": [
    {
     "name": "stderr",
     "output_type": "stream",
     "text": [
      "C:\\Users\\norma\\AppData\\Local\\Temp\\ipykernel_32728\\3563582690.py:19: UserWarning: Glyph 9201 (\\N{STOPWATCH}) missing from font(s) Arial.\n",
      "  plt.tight_layout()\n",
      "c:\\Allianz\\prueba_allianz\\venv\\Lib\\site-packages\\IPython\\core\\pylabtools.py:170: UserWarning: Glyph 9201 (\\N{STOPWATCH}) missing from font(s) Arial.\n",
      "  fig.canvas.print_figure(bytes_io, **kw)\n"
     ]
    },
    {
     "data": {
      "image/png": "[encoded data removed]",
      "text/plain": [
       "<Figure size 1000x500 with 1 Axes>"
      ]
     },
     "metadata": {},
     "output_type": "display_data"
    },
    {
     "data": {
      "text/plain": [
       "count    63632.000000\n",
       "mean     11687.304501\n",
       "std      10290.589825\n",
       "min       1440.000000\n",
       "25%       2880.000000\n",
       "50%       8640.000000\n",
       "75%      18720.000000\n",
       "max      43200.000000\n",
       "Name: delta_minutos, dtype: float64"
      ]
     },
     "execution_count": 24,
     "metadata": {},
     "output_type": "execute_result"
    }
   ],
   "source": [
    "analizar_diferencia_registro_cotizacion(diff)"
   ]
  },
  {
   "cell_type": "code",
   "execution_count": 26,
   "id": "621593d6",
   "metadata": {},
   "outputs": [
    {
     "name": "stdout",
     "output_type": "stream",
     "text": [
      "⏱ Más de 1 hora: 63632\n",
      "📅 Más de 1 día: 50118\n",
      "📆 Más de 1 semana: 27036\n"
     ]
    }
   ],
   "source": [
    "print(\"⏱ Más de 1 hora:\", (diff['delta_minutos'] > 60).sum())\n",
    "print(\"📅 Más de 1 día:\", (diff['delta_minutos'] > 1440).sum())\n",
    "print(\"📆 Más de 1 semana:\", (diff['delta_minutos'] > 10080).sum())"
   ]
  },
  {
   "cell_type": "code",
   "execution_count": 27,
   "id": "130d7256",
   "metadata": {},
   "outputs": [
    {
     "data": {
      "text/plain": [
       "rango_tiempo\n",
       ">1 semana     42.49\n",
       "1d–1semana    36.27\n",
       "1h–1d         21.24\n",
       "≤1 hora        0.00\n",
       "Name: proportion, dtype: float64"
      ]
     },
     "execution_count": 27,
     "metadata": {},
     "output_type": "execute_result"
    }
   ],
   "source": [
    "bins = [0, 60, 1440, 10080, diff['delta_minutos'].max()]\n",
    "labels = ['≤1 hora', '1h–1d', '1d–1semana', '>1 semana']\n",
    "\n",
    "diff['rango_tiempo'] = pd.cut(diff['delta_minutos'], bins=bins, labels=labels, include_lowest=True)\n",
    "\n",
    "diff['rango_tiempo'].value_counts(normalize=True).mul(100).round(2)"
   ]
  },
  {
   "cell_type": "code",
   "execution_count": 28,
   "id": "5d0d12f2",
   "metadata": {},
   "outputs": [
    {
     "data": {
      "text/plain": [
       "rango_tiempo\n",
       "≤1 hora       90.70\n",
       ">1 semana      3.95\n",
       "1d–1semana     3.37\n",
       "1h–1d          1.97\n",
       "Name: proportion, dtype: float64"
      ]
     },
     "execution_count": 28,
     "metadata": {},
     "output_type": "execute_result"
    }
   ],
   "source": [
    "bins = [0, 60, 1440, 10080, df_filtered['delta_minutos'].max()]\n",
    "labels = ['≤1 hora', '1h–1d', '1d–1semana', '>1 semana']\n",
    "\n",
    "df_filtered['rango_tiempo'] = pd.cut(df_filtered['delta_minutos'], bins=bins, labels=labels, include_lowest=True)\n",
    "\n",
    "df_filtered['rango_tiempo'].value_counts(normalize=True).mul(100).round(2)"
   ]
  },
  {
   "cell_type": "code",
   "execution_count": 29,
   "id": "0dc5f529",
   "metadata": {},
   "outputs": [
    {
     "data": {
      "text/plain": [
       "aseguradora_producto\n",
       "Aseguradora11_RCE + Totales       16837.377049\n",
       "Aseguradora11_RCE+Totales         16071.111111\n",
       "Aseguradora11_TodoRiesgoBajo      16011.428571\n",
       "Aseguradora5_RCE + Totales        15142.153846\n",
       "Aseguradora5_Todo Riesgo Bajo     15027.969925\n",
       "Aseguradora9_TodoRiesgoAlto       13537.425743\n",
       "Aseguradora9_TodoRiesgoBajo       13147.534884\n",
       "Aseguradora2_                     13113.034571\n",
       "Aseguradora11_Todo Riesgo Bajo    12965.506692\n",
       "Aseguradora6_n/a                  12728.546679\n",
       "Name: delta_minutos, dtype: float64"
      ]
     },
     "execution_count": 29,
     "metadata": {},
     "output_type": "execute_result"
    }
   ],
   "source": [
    "diff.groupby('aseguradora_producto')['delta_minutos'].mean().sort_values(ascending=False).head(10)"
   ]
  },
  {
   "cell_type": "code",
   "execution_count": 30,
   "id": "2fd14231",
   "metadata": {},
   "outputs": [
    {
     "name": "stderr",
     "output_type": "stream",
     "text": [
      "c:\\Allianz\\prueba_allianz\\venv\\Lib\\site-packages\\IPython\\core\\pylabtools.py:170: UserWarning: Glyph 128230 (\\N{PACKAGE}) missing from font(s) Arial.\n",
      "  fig.canvas.print_figure(bytes_io, **kw)\n"
     ]
    },
    {
     "data": {
      "image/png": "[encoded data removed]",
      "text/plain": [
       "<Figure size 1000x500 with 1 Axes>"
      ]
     },
     "metadata": {},
     "output_type": "display_data"
    }
   ],
   "source": [
    "plt.figure(figsize=(10,5))\n",
    "sns.boxplot(data=diff, x='rango_tiempo', y='delta_minutos')\n",
    "plt.title(\"📦 Distribución de retrasos por rango de tiempo\")\n",
    "plt.show()"
   ]
  },
  {
   "cell_type": "code",
   "execution_count": 31,
   "id": "325a4d84",
   "metadata": {},
   "outputs": [],
   "source": [
    "# Separar aseguradora_producto\n",
    "diff[['aseguradora_origen', 'producto_origen']] = diff['aseguradora_producto'].str.split('_', n=1, expand=True)"
   ]
  },
  {
   "cell_type": "code",
   "execution_count": 32,
   "id": "a3d8fdc5",
   "metadata": {},
   "outputs": [
    {
     "data": {
      "text/plain": [
       "aseguradora_origen\n",
       "Aseguradora11    13712.893401\n",
       "Aseguradora1     12335.612278\n",
       "Aseguradora4     12229.886948\n",
       "Aseguradora6     11982.745325\n",
       "Aseguradora2     11889.463108\n",
       "Name: delta_minutos, dtype: float64"
      ]
     },
     "execution_count": 32,
     "metadata": {},
     "output_type": "execute_result"
    }
   ],
   "source": [
    "diff.groupby('aseguradora_origen')['delta_minutos'].mean().sort_values(ascending=False).head()"
   ]
  },
  {
   "cell_type": "code",
   "execution_count": 33,
   "id": "8e1b5d52",
   "metadata": {},
   "outputs": [
    {
     "data": {
      "text/plain": [
       "producto_origen\n",
       "Todo Riesgo Bajo     28849\n",
       "Todo Riesgo Alto      8762\n",
       "TodoRiesgoBajo        5962\n",
       "Todo Riesgo Medio     5034\n",
       "n/a                   3912\n",
       "RCE                   2552\n",
       "Autos Plus            2090\n",
       "Totales               1785\n",
       "TodoRiesgoAlto        1721\n",
       "TodoRiesgoMedio       1066\n",
       "Name: count, dtype: int64"
      ]
     },
     "execution_count": 33,
     "metadata": {},
     "output_type": "execute_result"
    }
   ],
   "source": [
    "diff['producto_origen'].value_counts().head(10)"
   ]
  },
  {
   "cell_type": "code",
   "execution_count": 34,
   "id": "56c9687a",
   "metadata": {},
   "outputs": [
    {
     "name": "stdout",
     "output_type": "stream",
     "text": [
      "<class 'pandas.core.frame.DataFrame'>\n",
      "RangeIndex: 684316 entries, 0 to 684315\n",
      "Data columns (total 30 columns):\n",
      " #   Column                     Non-Null Count   Dtype         \n",
      "---  ------                     --------------   -----         \n",
      " 0   fecha_registro             684316 non-null  datetime64[ns]\n",
      " 1   comparison_id              684316 non-null  object        \n",
      " 2   fecha_nacimiento           582229 non-null  object        \n",
      " 3   edad                       684316 non-null  int64         \n",
      " 4   ocupacion                  684316 non-null  object        \n",
      " 5   tipo_identificacion        684316 non-null  object        \n",
      " 6   genero                     684316 non-null  object        \n",
      " 7   fasecolda_id               684316 non-null  object        \n",
      " 8   marca                      684316 non-null  object        \n",
      " 9   referencia_vehiculo        684316 non-null  object        \n",
      " 10  tipo_caja                  684316 non-null  object        \n",
      " 11  valor_fasecolda            684316 non-null  int64         \n",
      " 12  modelo                     684316 non-null  int64         \n",
      " 13  dane_id                    684316 non-null  object        \n",
      " 14  ciudad                     684316 non-null  object        \n",
      " 15  departamento_id            684316 non-null  object        \n",
      " 16  departamento               684316 non-null  object        \n",
      " 17  vehiculo_nuevo             684316 non-null  object        \n",
      " 18  aseguradora_producto       684316 non-null  object        \n",
      " 19  cotizacion_fecha           684316 non-null  datetime64[ns]\n",
      " 20  valor_prima                684316 non-null  float64       \n",
      " 21  perdida_total_cobertura    684316 non-null  object        \n",
      " 22  perdida_parcial_deducible  684316 non-null  object        \n",
      " 23  rce_limite_unico           684316 non-null  bool          \n",
      " 24  emitido_producto           163291 non-null  object        \n",
      " 25  emitido_cotizacion         684316 non-null  bool          \n",
      " 26  source_file                684316 non-null  object        \n",
      " 27  fecha_analisis             684316 non-null  bool          \n",
      " 28  delta_minutos              684316 non-null  float64       \n",
      " 29  rango_tiempo               684316 non-null  category      \n",
      "dtypes: bool(3), category(1), datetime64[ns](2), float64(2), int64(3), object(19)\n",
      "memory usage: 138.4+ MB\n"
     ]
    }
   ],
   "source": [
    "df_filtered.info()"
   ]
  },
  {
   "cell_type": "code",
   "execution_count": 35,
   "id": "ccfdac14",
   "metadata": {},
   "outputs": [],
   "source": [
    "# Eliminar columnas\n",
    "df_filtered.drop(columns=['fecha_analisis', 'rango_tiempo'], inplace=True)"
   ]
  },
  {
   "cell_type": "code",
   "execution_count": 36,
   "id": "e254c850",
   "metadata": {},
   "outputs": [],
   "source": [
    "df_filtered['cotizacion_fecha'] = pd.to_datetime(df_filtered['cotizacion_fecha'], errors='coerce')\n",
    "\n",
    "df_filtered['anio'] = df_filtered['cotizacion_fecha'].dt.year\n",
    "df_filtered['mes'] = df_filtered['cotizacion_fecha'].dt.month\n",
    "df_filtered['dia'] = df_filtered['cotizacion_fecha'].dt.day\n",
    "df_filtered['fecha'] = df_filtered['cotizacion_fecha'].dt.date\n",
    "df_filtered['hora'] = df_filtered['cotizacion_fecha'].dt.hour\n",
    "df_filtered['dia_semana'] = df_filtered['cotizacion_fecha'].dt.day_name()"
   ]
  },
  {
   "cell_type": "code",
   "execution_count": 37,
   "id": "e6ef2cd1",
   "metadata": {},
   "outputs": [
    {
     "name": "stderr",
     "output_type": "stream",
     "text": [
      "C:\\Users\\norma\\AppData\\Local\\Temp\\ipykernel_32728\\303882770.py:9: UserWarning: Glyph 128200 (\\N{CHART WITH UPWARDS TREND}) missing from font(s) Arial.\n",
      "  plt.tight_layout()\n",
      "c:\\Allianz\\prueba_allianz\\venv\\Lib\\site-packages\\IPython\\core\\pylabtools.py:170: UserWarning: Glyph 128200 (\\N{CHART WITH UPWARDS TREND}) missing from font(s) Arial.\n",
      "  fig.canvas.print_figure(bytes_io, **kw)\n"
     ]
    },
    {
     "data": {
      "image/png": "[encoded data removed]",
      "text/plain": [
       "<Figure size 1200x500 with 1 Axes>"
      ]
     },
     "metadata": {},
     "output_type": "display_data"
    }
   ],
   "source": [
    "df_filtered['mes_anio'] = df_filtered['cotizacion_fecha'].dt.to_period('M').dt.to_timestamp()\n",
    "\n",
    "cot_mensual = df_filtered.groupby('mes_anio').size().reset_index(name='cotizaciones')\n",
    "\n",
    "plt.figure(figsize=(12,5))\n",
    "sns.lineplot(data=cot_mensual, x='mes_anio', y='cotizaciones', marker='o')\n",
    "plt.title(\"📈 Evolución mensual de cotizaciones\")\n",
    "plt.xticks(rotation=45)\n",
    "plt.tight_layout()\n",
    "plt.show()"
   ]
  },
  {
   "cell_type": "code",
   "execution_count": 38,
   "id": "e948e278",
   "metadata": {},
   "outputs": [
    {
     "name": "stderr",
     "output_type": "stream",
     "text": [
      "C:\\Users\\norma\\AppData\\Local\\Temp\\ipykernel_32728\\369739907.py:6: UserWarning: Glyph 128198 (\\N{TEAR-OFF CALENDAR}) missing from font(s) Arial.\n",
      "  plt.tight_layout()\n",
      "c:\\Allianz\\prueba_allianz\\venv\\Lib\\site-packages\\IPython\\core\\pylabtools.py:170: UserWarning: Glyph 128198 (\\N{TEAR-OFF CALENDAR}) missing from font(s) Arial.\n",
      "  fig.canvas.print_figure(bytes_io, **kw)\n"
     ]
    },
    {
     "data": {
      "image/png": "[encoded data removed]",
      "text/plain": [
       "<Figure size 1400x400 with 1 Axes>"
      ]
     },
     "metadata": {},
     "output_type": "display_data"
    }
   ],
   "source": [
    "cot_diaria = df_filtered.groupby('fecha').size().reset_index(name='cotizaciones')\n",
    "\n",
    "plt.figure(figsize=(14,4))\n",
    "sns.lineplot(data=cot_diaria, x='fecha', y='cotizaciones')\n",
    "plt.title(\"📆 Cotizaciones por día\")\n",
    "plt.tight_layout()\n",
    "plt.show()"
   ]
  },
  {
   "cell_type": "code",
   "execution_count": 39,
   "id": "cbac1920",
   "metadata": {},
   "outputs": [
    {
     "name": "stderr",
     "output_type": "stream",
     "text": [
      "C:\\Users\\norma\\AppData\\Local\\Temp\\ipykernel_32728\\2916170581.py:8: UserWarning: Glyph 128467 (\\N{SPIRAL CALENDAR PAD}) missing from font(s) Arial.\n",
      "  plt.tight_layout()\n",
      "c:\\Allianz\\prueba_allianz\\venv\\Lib\\site-packages\\IPython\\core\\pylabtools.py:170: UserWarning: Glyph 128467 (\\N{SPIRAL CALENDAR PAD}) missing from font(s) Arial.\n",
      "  fig.canvas.print_figure(bytes_io, **kw)\n"
     ]
    },
    {
     "data": {
      "image/png": "[encoded data removed]",
      "text/plain": [
       "<Figure size 800x400 with 1 Axes>"
      ]
     },
     "metadata": {},
     "output_type": "display_data"
    }
   ],
   "source": [
    "orden_dias = ['Monday', 'Tuesday', 'Wednesday', 'Thursday', 'Friday', 'Saturday', 'Sunday']\n",
    "\n",
    "plt.figure(figsize=(8,4))\n",
    "sns.countplot(data=df_filtered, x='dia_semana', order=orden_dias)\n",
    "plt.title(\"🗓 Cotizaciones por día de la semana\")\n",
    "plt.ylabel(\"Cantidad\")\n",
    "plt.xticks(rotation=45)\n",
    "plt.tight_layout()\n",
    "plt.show()"
   ]
  },
  {
   "cell_type": "code",
   "execution_count": 40,
   "id": "6bbc2b1b",
   "metadata": {},
   "outputs": [],
   "source": [
    "# Separar aseguradora_producto\n",
    "df_filtered[['aseguradora_origen', 'producto_origen']] = df_filtered['aseguradora_producto'].str.split('_', n=1, expand=True)"
   ]
  },
  {
   "cell_type": "code",
   "execution_count": 41,
   "id": "2d232ca7",
   "metadata": {},
   "outputs": [],
   "source": [
    "cot_mensual_aseg = (\n",
    "    df_filtered\n",
    "    .groupby(['mes_anio', 'aseguradora_origen'])\n",
    "    .size()\n",
    "    .reset_index(name='n_cotizaciones')\n",
    ")"
   ]
  },
  {
   "cell_type": "code",
   "execution_count": 42,
   "id": "73153ebf",
   "metadata": {},
   "outputs": [
    {
     "name": "stderr",
     "output_type": "stream",
     "text": [
      "C:\\Users\\norma\\AppData\\Local\\Temp\\ipykernel_32728\\3624186004.py:14: UserWarning: Glyph 128200 (\\N{CHART WITH UPWARDS TREND}) missing from font(s) Arial.\n",
      "  plt.tight_layout()\n",
      "c:\\Allianz\\prueba_allianz\\venv\\Lib\\site-packages\\IPython\\core\\pylabtools.py:170: UserWarning: Glyph 128200 (\\N{CHART WITH UPWARDS TREND}) missing from font(s) Arial.\n",
      "  fig.canvas.print_figure(bytes_io, **kw)\n"
     ]
    },
    {
     "data": {
      "image/png": "[encoded data removed]",
      "text/plain": [
       "<Figure size 1400x600 with 1 Axes>"
      ]
     },
     "metadata": {},
     "output_type": "display_data"
    }
   ],
   "source": [
    "plt.figure(figsize=(14,6))\n",
    "sns.lineplot(\n",
    "    data=cot_mensual_aseg,\n",
    "    x='mes_anio',\n",
    "    y='n_cotizaciones',\n",
    "    hue='aseguradora_origen',\n",
    "    marker='o'\n",
    ")\n",
    "plt.title(\"📈 Cotizaciones por mes y aseguradora\")\n",
    "plt.xlabel(\"Mes\")\n",
    "plt.ylabel(\"Número de cotizaciones\")\n",
    "plt.xticks(rotation=45)\n",
    "plt.legend(title=\"Aseguradora\", bbox_to_anchor=(1.05, 1), loc='upper left')\n",
    "plt.tight_layout()\n",
    "plt.show()"
   ]
  },
  {
   "cell_type": "code",
   "execution_count": 43,
   "id": "f4321b0d",
   "metadata": {},
   "outputs": [],
   "source": [
    "df_filtered['mes_anio'] = pd.to_datetime(df_filtered['cotizacion_fecha']).dt.to_period('M').dt.to_timestamp()\n",
    "\n",
    "cot_mensual_genero = (\n",
    "    df_filtered\n",
    "    .groupby(['mes_anio', 'genero'])\n",
    "    .size()\n",
    "    .reset_index(name='n_cotizaciones')\n",
    ")"
   ]
  },
  {
   "cell_type": "code",
   "execution_count": 44,
   "id": "0912b0f6",
   "metadata": {},
   "outputs": [
    {
     "data": {
      "application/vnd.plotly.v1+json": {
       "config": {
        "plotlyServerURL": "https://plot.ly"
       },
       "data": [
        {
         "hovertemplate": "genero=Femenino<br>mes_anio=%{x}<br>n_cotizaciones=%{y}<extra></extra>",
         "legendgroup": "Femenino",
         "line": {
          "color": "#636efa",
          "dash": "solid"
         },
         "marker": {
          "symbol": "circle"
         },
         "mode": "lines+markers",
         "name": "Femenino",
         "orientation": "v",
         "showlegend": true,
         "type": "scatter",
         "x": [
          "2024-08-01T00:00:00.000000000",
          "2024-09-01T00:00:00.000000000",
          "2024-10-01T00:00:00.000000000",
          "2024-11-01T00:00:00.000000000",
          "2024-12-01T00:00:00.000000000",
          "2025-01-01T00:00:00.000000000",
          "2025-02-01T00:00:00.000000000"
         ],
         "xaxis": "x",
         "y": {
          "bdata": "SLgAABW6AAAKswAAEpwAANyQAAAnwwAAcAAAAA==",
          "dtype": "i4"
         },
         "yaxis": "y"
        },
        {
         "hovertemplate": "genero=Masculino<br>mes_anio=%{x}<br>n_cotizaciones=%{y}<extra></extra>",
         "legendgroup": "Masculino",
         "line": {
          "color": "#EF553B",
          "dash": "solid"
         },
         "marker": {
          "symbol": "circle"
         },
         "mode": "lines+markers",
         "name": "Masculino",
         "orientation": "v",
         "showlegend": true,
         "type": "scatter",
         "x": [
          "2024-08-01T00:00:00.000000000",
          "2024-09-01T00:00:00.000000000",
          "2024-10-01T00:00:00.000000000",
          "2024-11-01T00:00:00.000000000",
          "2024-12-01T00:00:00.000000000",
          "2025-01-01T00:00:00.000000000",
          "2025-02-01T00:00:00.000000000"
         ],
         "xaxis": "x",
         "y": {
          "bdata": "yBIBAH4zAQDYCQEA+fMAAGjvAAAtJwEAhAAAAA==",
          "dtype": "i4"
         },
         "yaxis": "y"
        }
       ],
       "layout": {
        "hovermode": "x unified",
        "legend": {
         "orientation": "v",
         "title": {
          "text": "Género"
         },
         "tracegroupgap": 0,
         "x": 1.02,
         "xanchor": "left",
         "y": 1,
         "yanchor": "top"
        },
        "template": {
         "data": {
          "bar": [
           {
            "error_x": {
             "color": "#2a3f5f"
            },
            "error_y": {
             "color": "#2a3f5f"
            },
            "marker": {
             "line": {
              "color": "#E5ECF6",
              "width": 0.5
             },
             "pattern": {
              "fillmode": "overlay",
              "size": 10,
              "solidity": 0.2
             }
            },
            "type": "bar"
           }
          ],
          "barpolar": [
           {
            "marker": {
             "line": {
              "color": "#E5ECF6",
              "width": 0.5
             },
             "pattern": {
              "fillmode": "overlay",
              "size": 10,
              "solidity": 0.2
             }
            },
            "type": "barpolar"
           }
          ],
          "carpet": [
           {
            "aaxis": {
             "endlinecolor": "#2a3f5f",
             "gridcolor": "white",
             "linecolor": "white",
             "minorgridcolor": "white",
             "startlinecolor": "#2a3f5f"
            },
            "baxis": {
             "endlinecolor": "#2a3f5f",
             "gridcolor": "white",
             "linecolor": "white",
             "minorgridcolor": "white",
             "startlinecolor": "#2a3f5f"
            },
            "type": "carpet"
           }
          ],
          "choropleth": [
           {
            "colorbar": {
             "outlinewidth": 0,
             "ticks": ""
            },
            "type": "choropleth"
           }
          ],
          "contour": [
           {
            "colorbar": {
             "outlinewidth": 0,
             "ticks": ""
            },
            "colorscale": [
             [
              0,
              "#0d0887"
             ],
             [
              0.1111111111111111,
              "#46039f"
             ],
             [
              0.2222222222222222,
              "#7201a8"
             ],
             [
              0.3333333333333333,
              "#9c179e"
             ],
             [
              0.4444444444444444,
              "#bd3786"
             ],
             [
              0.5555555555555556,
              "#d8576b"
             ],
             [
              0.6666666666666666,
              "#ed7953"
             ],
             [
              0.7777777777777778,
              "#fb9f3a"
             ],
             [
              0.8888888888888888,
              "#fdca26"
             ],
             [
              1,
              "#f0f921"
             ]
            ],
            "type": "contour"
           }
          ],
          "contourcarpet": [
           {
            "colorbar": {
             "outlinewidth": 0,
             "ticks": ""
            },
            "type": "contourcarpet"
           }
          ],
          "heatmap": [
           {
            "colorbar": {
             "outlinewidth": 0,
             "ticks": ""
            },
            "colorscale": [
             [
              0,
              "#0d0887"
             ],
             [
              0.1111111111111111,
              "#46039f"
             ],
             [
              0.2222222222222222,
              "#7201a8"
             ],
             [
              0.3333333333333333,
              "#9c179e"
             ],
             [
              0.4444444444444444,
              "#bd3786"
             ],
             [
              0.5555555555555556,
              "#d8576b"
             ],
             [
              0.6666666666666666,
              "#ed7953"
             ],
             [
              0.7777777777777778,
              "#fb9f3a"
             ],
             [
              0.8888888888888888,
              "#fdca26"
             ],
             [
              1,
              "#f0f921"
             ]
            ],
            "type": "heatmap"
           }
          ],
          "histogram": [
           {
            "marker": {
             "pattern": {
              "fillmode": "overlay",
              "size": 10,
              "solidity": 0.2
             }
            },
            "type": "histogram"
           }
          ],
          "histogram2d": [
           {
            "colorbar": {
             "outlinewidth": 0,
             "ticks": ""
            },
            "colorscale": [
             [
              0,
              "#0d0887"
             ],
             [
              0.1111111111111111,
              "#46039f"
             ],
             [
              0.2222222222222222,
              "#7201a8"
             ],
             [
              0.3333333333333333,
              "#9c179e"
             ],
             [
              0.4444444444444444,
              "#bd3786"
             ],
             [
              0.5555555555555556,
              "#d8576b"
             ],
             [
              0.6666666666666666,
              "#ed7953"
             ],
             [
              0.7777777777777778,
              "#fb9f3a"
             ],
             [
              0.8888888888888888,
              "#fdca26"
             ],
             [
              1,
              "#f0f921"
             ]
            ],
            "type": "histogram2d"
           }
          ],
          "histogram2dcontour": [
           {
            "colorbar": {
             "outlinewidth": 0,
             "ticks": ""
            },
            "colorscale": [
             [
              0,
              "#0d0887"
             ],
             [
              0.1111111111111111,
              "#46039f"
             ],
             [
              0.2222222222222222,
              "#7201a8"
             ],
             [
              0.3333333333333333,
              "#9c179e"
             ],
             [
              0.4444444444444444,
              "#bd3786"
             ],
             [
              0.5555555555555556,
              "#d8576b"
             ],
             [
              0.6666666666666666,
              "#ed7953"
             ],
             [
              0.7777777777777778,
              "#fb9f3a"
             ],
             [
              0.8888888888888888,
              "#fdca26"
             ],
             [
              1,
              "#f0f921"
             ]
            ],
            "type": "histogram2dcontour"
           }
          ],
          "mesh3d": [
           {
            "colorbar": {
             "outlinewidth": 0,
             "ticks": ""
            },
            "type": "mesh3d"
           }
          ],
          "parcoords": [
           {
            "line": {
             "colorbar": {
              "outlinewidth": 0,
              "ticks": ""
             }
            },
            "type": "parcoords"
           }
          ],
          "pie": [
           {
            "automargin": true,
            "type": "pie"
           }
          ],
          "scatter": [
           {
            "fillpattern": {
             "fillmode": "overlay",
             "size": 10,
             "solidity": 0.2
            },
            "type": "scatter"
           }
          ],
          "scatter3d": [
           {
            "line": {
             "colorbar": {
              "outlinewidth": 0,
              "ticks": ""
             }
            },
            "marker": {
             "colorbar": {
              "outlinewidth": 0,
              "ticks": ""
             }
            },
            "type": "scatter3d"
           }
          ],
          "scattercarpet": [
           {
            "marker": {
             "colorbar": {
              "outlinewidth": 0,
              "ticks": ""
             }
            },
            "type": "scattercarpet"
           }
          ],
          "scattergeo": [
           {
            "marker": {
             "colorbar": {
              "outlinewidth": 0,
              "ticks": ""
             }
            },
            "type": "scattergeo"
           }
          ],
          "scattergl": [
           {
            "marker": {
             "colorbar": {
              "outlinewidth": 0,
              "ticks": ""
             }
            },
            "type": "scattergl"
           }
          ],
          "scattermap": [
           {
            "marker": {
             "colorbar": {
              "outlinewidth": 0,
              "ticks": ""
             }
            },
            "type": "scattermap"
           }
          ],
          "scattermapbox": [
           {
            "marker": {
             "colorbar": {
              "outlinewidth": 0,
              "ticks": ""
             }
            },
            "type": "scattermapbox"
           }
          ],
          "scatterpolar": [
           {
            "marker": {
             "colorbar": {
              "outlinewidth": 0,
              "ticks": ""
             }
            },
            "type": "scatterpolar"
           }
          ],
          "scatterpolargl": [
           {
            "marker": {
             "colorbar": {
              "outlinewidth": 0,
              "ticks": ""
             }
            },
            "type": "scatterpolargl"
           }
          ],
          "scatterternary": [
           {
            "marker": {
             "colorbar": {
              "outlinewidth": 0,
              "ticks": ""
             }
            },
            "type": "scatterternary"
           }
          ],
          "surface": [
           {
            "colorbar": {
             "outlinewidth": 0,
             "ticks": ""
            },
            "colorscale": [
             [
              0,
              "#0d0887"
             ],
             [
              0.1111111111111111,
              "#46039f"
             ],
             [
              0.2222222222222222,
              "#7201a8"
             ],
             [
              0.3333333333333333,
              "#9c179e"
             ],
             [
              0.4444444444444444,
              "#bd3786"
             ],
             [
              0.5555555555555556,
              "#d8576b"
             ],
             [
              0.6666666666666666,
              "#ed7953"
             ],
             [
              0.7777777777777778,
              "#fb9f3a"
             ],
             [
              0.8888888888888888,
              "#fdca26"
             ],
             [
              1,
              "#f0f921"
             ]
            ],
            "type": "surface"
           }
          ],
          "table": [
           {
            "cells": {
             "fill": {
              "color": "#EBF0F8"
             },
             "line": {
              "color": "white"
             }
            },
            "header": {
             "fill": {
              "color": "#C8D4E3"
             },
             "line": {
              "color": "white"
             }
            },
            "type": "table"
           }
          ]
         },
         "layout": {
          "annotationdefaults": {
           "arrowcolor": "#2a3f5f",
           "arrowhead": 0,
           "arrowwidth": 1
          },
          "autotypenumbers": "strict",
          "coloraxis": {
           "colorbar": {
            "outlinewidth": 0,
            "ticks": ""
           }
          },
          "colorscale": {
           "diverging": [
            [
             0,
             "#8e0152"
            ],
            [
             0.1,
             "#c51b7d"
            ],
            [
             0.2,
             "#de77ae"
            ],
            [
             0.3,
             "#f1b6da"
            ],
            [
             0.4,
             "#fde0ef"
            ],
            [
             0.5,
             "#f7f7f7"
            ],
            [
             0.6,
             "#e6f5d0"
            ],
            [
             0.7,
             "#b8e186"
            ],
            [
             0.8,
             "#7fbc41"
            ],
            [
             0.9,
             "#4d9221"
            ],
            [
             1,
             "#276419"
            ]
           ],
           "sequential": [
            [
             0,
             "#0d0887"
            ],
            [
             0.1111111111111111,
             "#46039f"
            ],
            [
             0.2222222222222222,
             "#7201a8"
            ],
            [
             0.3333333333333333,
             "#9c179e"
            ],
            [
             0.4444444444444444,
             "#bd3786"
            ],
            [
             0.5555555555555556,
             "#d8576b"
            ],
            [
             0.6666666666666666,
             "#ed7953"
            ],
            [
             0.7777777777777778,
             "#fb9f3a"
            ],
            [
             0.8888888888888888,
             "#fdca26"
            ],
            [
             1,
             "#f0f921"
            ]
           ],
           "sequentialminus": [
            [
             0,
             "#0d0887"
            ],
            [
             0.1111111111111111,
             "#46039f"
            ],
            [
             0.2222222222222222,
             "#7201a8"
            ],
            [
             0.3333333333333333,
             "#9c179e"
            ],
            [
             0.4444444444444444,
             "#bd3786"
            ],
            [
             0.5555555555555556,
             "#d8576b"
            ],
            [
             0.6666666666666666,
             "#ed7953"
            ],
            [
             0.7777777777777778,
             "#fb9f3a"
            ],
            [
             0.8888888888888888,
             "#fdca26"
            ],
            [
             1,
             "#f0f921"
            ]
           ]
          },
          "colorway": [
           "#636efa",
           "#EF553B",
           "#00cc96",
           "#ab63fa",
           "#FFA15A",
           "#19d3f3",
           "#FF6692",
           "#B6E880",
           "#FF97FF",
           "#FECB52"
          ],
          "font": {
           "color": "#2a3f5f"
          },
          "geo": {
           "bgcolor": "white",
           "lakecolor": "white",
           "landcolor": "#E5ECF6",
           "showlakes": true,
           "showland": true,
           "subunitcolor": "white"
          },
          "hoverlabel": {
           "align": "left"
          },
          "hovermode": "closest",
          "mapbox": {
           "style": "light"
          },
          "paper_bgcolor": "white",
          "plot_bgcolor": "#E5ECF6",
          "polar": {
           "angularaxis": {
            "gridcolor": "white",
            "linecolor": "white",
            "ticks": ""
           },
           "bgcolor": "#E5ECF6",
           "radialaxis": {
            "gridcolor": "white",
            "linecolor": "white",
            "ticks": ""
           }
          },
          "scene": {
           "xaxis": {
            "backgroundcolor": "#E5ECF6",
            "gridcolor": "white",
            "gridwidth": 2,
            "linecolor": "white",
            "showbackground": true,
            "ticks": "",
            "zerolinecolor": "white"
           },
           "yaxis": {
            "backgroundcolor": "#E5ECF6",
            "gridcolor": "white",
            "gridwidth": 2,
            "linecolor": "white",
            "showbackground": true,
            "ticks": "",
            "zerolinecolor": "white"
           },
           "zaxis": {
            "backgroundcolor": "#E5ECF6",
            "gridcolor": "white",
            "gridwidth": 2,
            "linecolor": "white",
            "showbackground": true,
            "ticks": "",
            "zerolinecolor": "white"
           }
          },
          "shapedefaults": {
           "line": {
            "color": "#2a3f5f"
           }
          },
          "ternary": {
           "aaxis": {
            "gridcolor": "white",
            "linecolor": "white",
            "ticks": ""
           },
           "baxis": {
            "gridcolor": "white",
            "linecolor": "white",
            "ticks": ""
           },
           "bgcolor": "#E5ECF6",
           "caxis": {
            "gridcolor": "white",
            "linecolor": "white",
            "ticks": ""
           }
          },
          "title": {
           "x": 0.05
          },
          "xaxis": {
           "automargin": true,
           "gridcolor": "white",
           "linecolor": "white",
           "ticks": "",
           "title": {
            "standoff": 15
           },
           "zerolinecolor": "white",
           "zerolinewidth": 2
          },
          "yaxis": {
           "automargin": true,
           "gridcolor": "white",
           "linecolor": "white",
           "ticks": "",
           "title": {
            "standoff": 15
           },
           "zerolinecolor": "white",
           "zerolinewidth": 2
          }
         }
        },
        "title": {
         "text": "📈 Cotizaciones mensuales por género"
        },
        "xaxis": {
         "anchor": "y",
         "domain": [
          0,
          1
         ],
         "title": {
          "text": "Mes"
         }
        },
        "yaxis": {
         "anchor": "x",
         "domain": [
          0,
          1
         ],
         "title": {
          "text": "Número de cotizaciones"
         }
        }
       }
      }
     },
     "metadata": {},
     "output_type": "display_data"
    }
   ],
   "source": [
    "import plotly.express as px\n",
    "\n",
    "fig = px.line(\n",
    "    cot_mensual_genero,\n",
    "    x='mes_anio',\n",
    "    y='n_cotizaciones',\n",
    "    color='genero',\n",
    "    markers=True,\n",
    "    title=\"📈 Cotizaciones mensuales por género\"\n",
    ")\n",
    "\n",
    "fig.update_layout(\n",
    "    xaxis_title=\"Mes\",\n",
    "    yaxis_title=\"Número de cotizaciones\",\n",
    "    legend_title=\"Género\",\n",
    "    hovermode=\"x unified\",\n",
    "    legend=dict(\n",
    "        orientation=\"v\",\n",
    "        yanchor=\"top\",\n",
    "        y=1,\n",
    "        xanchor=\"left\",\n",
    "        x=1.02\n",
    "    )\n",
    ")\n",
    "\n",
    "fig.show()"
   ]
  },
  {
   "cell_type": "code",
   "execution_count": 45,
   "id": "3016e5ba",
   "metadata": {},
   "outputs": [
    {
     "name": "stdout",
     "output_type": "stream",
     "text": [
      "<class 'pandas.core.frame.DataFrame'>\n",
      "RangeIndex: 684316 entries, 0 to 684315\n",
      "Data columns (total 37 columns):\n",
      " #   Column                     Non-Null Count   Dtype         \n",
      "---  ------                     --------------   -----         \n",
      " 0   fecha_registro             684316 non-null  datetime64[ns]\n",
      " 1   comparison_id              684316 non-null  object        \n",
      " 2   fecha_nacimiento           582229 non-null  object        \n",
      " 3   edad                       684316 non-null  int64         \n",
      " 4   ocupacion                  684316 non-null  object        \n",
      " 5   tipo_identificacion        684316 non-null  object        \n",
      " 6   genero                     684316 non-null  object        \n",
      " 7   fasecolda_id               684316 non-null  object        \n",
      " 8   marca                      684316 non-null  object        \n",
      " 9   referencia_vehiculo        684316 non-null  object        \n",
      " 10  tipo_caja                  684316 non-null  object        \n",
      " 11  valor_fasecolda            684316 non-null  int64         \n",
      " 12  modelo                     684316 non-null  int64         \n",
      " 13  dane_id                    684316 non-null  object        \n",
      " 14  ciudad                     684316 non-null  object        \n",
      " 15  departamento_id            684316 non-null  object        \n",
      " 16  departamento               684316 non-null  object        \n",
      " 17  vehiculo_nuevo             684316 non-null  object        \n",
      " 18  aseguradora_producto       684316 non-null  object        \n",
      " 19  cotizacion_fecha           684316 non-null  datetime64[ns]\n",
      " 20  valor_prima                684316 non-null  float64       \n",
      " 21  perdida_total_cobertura    684316 non-null  object        \n",
      " 22  perdida_parcial_deducible  684316 non-null  object        \n",
      " 23  rce_limite_unico           684316 non-null  bool          \n",
      " 24  emitido_producto           163291 non-null  object        \n",
      " 25  emitido_cotizacion         684316 non-null  bool          \n",
      " 26  source_file                684316 non-null  object        \n",
      " 27  delta_minutos              684316 non-null  float64       \n",
      " 28  anio                       684316 non-null  int32         \n",
      " 29  mes                        684316 non-null  int32         \n",
      " 30  dia                        684316 non-null  int32         \n",
      " 31  fecha                      684316 non-null  object        \n",
      " 32  hora                       684316 non-null  int32         \n",
      " 33  dia_semana                 684316 non-null  object        \n",
      " 34  mes_anio                   684316 non-null  datetime64[ns]\n",
      " 35  aseguradora_origen         684316 non-null  object        \n",
      " 36  producto_origen            684316 non-null  object        \n",
      "dtypes: bool(2), datetime64[ns](3), float64(2), int32(4), int64(3), object(23)\n",
      "memory usage: 173.6+ MB\n"
     ]
    }
   ],
   "source": [
    "df_filtered.info()"
   ]
  },
  {
   "cell_type": "code",
   "execution_count": 46,
   "id": "67c2e7e0",
   "metadata": {},
   "outputs": [],
   "source": [
    "# Eliminar columnas de fecha para depurar\n",
    "df_filtered.drop(columns=['dia', 'fecha', 'hora'], inplace=True)\n",
    "# Renombrar columnas\n",
    "#df_filtered.rename(columns={'fecha_registro_fecha': 'fecha_registro', 'cotizacion_fecha_fecha': 'cotizacion_fecha'}, inplace=True)"
   ]
  },
  {
   "cell_type": "markdown",
   "id": "929b0bba",
   "metadata": {},
   "source": [
    "### Cardinalidad de variables"
   ]
  },
  {
   "cell_type": "code",
   "execution_count": 47,
   "id": "74809a7f",
   "metadata": {},
   "outputs": [
    {
     "data": {
      "text/html": [
       "<div>\n",
       "<style scoped>\n",
       "    .dataframe tbody tr th:only-of-type {\n",
       "        vertical-align: middle;\n",
       "    }\n",
       "\n",
       "    .dataframe tbody tr th {\n",
       "        vertical-align: top;\n",
       "    }\n",
       "\n",
       "    .dataframe thead th {\n",
       "        text-align: right;\n",
       "    }\n",
       "</style>\n",
       "<table border=\"1\" class=\"dataframe\">\n",
       "  <thead>\n",
       "    <tr style=\"text-align: right;\">\n",
       "      <th></th>\n",
       "      <th>valores_unicos</th>\n",
       "    </tr>\n",
       "  </thead>\n",
       "  <tbody>\n",
       "    <tr>\n",
       "      <th>valor_prima</th>\n",
       "      <td>591297</td>\n",
       "    </tr>\n",
       "    <tr>\n",
       "      <th>comparison_id</th>\n",
       "      <td>34933</td>\n",
       "    </tr>\n",
       "    <tr>\n",
       "      <th>fecha_nacimiento</th>\n",
       "      <td>13097</td>\n",
       "    </tr>\n",
       "    <tr>\n",
       "      <th>fasecolda_id</th>\n",
       "      <td>2126</td>\n",
       "    </tr>\n",
       "    <tr>\n",
       "      <th>referencia_vehiculo</th>\n",
       "      <td>2124</td>\n",
       "    </tr>\n",
       "    <tr>\n",
       "      <th>valor_fasecolda</th>\n",
       "      <td>1377</td>\n",
       "    </tr>\n",
       "    <tr>\n",
       "      <th>dane_id</th>\n",
       "      <td>437</td>\n",
       "    </tr>\n",
       "    <tr>\n",
       "      <th>ciudad</th>\n",
       "      <td>424</td>\n",
       "    </tr>\n",
       "    <tr>\n",
       "      <th>cotizacion_fecha</th>\n",
       "      <td>185</td>\n",
       "    </tr>\n",
       "    <tr>\n",
       "      <th>fecha_registro</th>\n",
       "      <td>184</td>\n",
       "    </tr>\n",
       "    <tr>\n",
       "      <th>edad</th>\n",
       "      <td>76</td>\n",
       "    </tr>\n",
       "    <tr>\n",
       "      <th>aseguradora_producto</th>\n",
       "      <td>60</td>\n",
       "    </tr>\n",
       "    <tr>\n",
       "      <th>emitido_producto</th>\n",
       "      <td>54</td>\n",
       "    </tr>\n",
       "    <tr>\n",
       "      <th>marca</th>\n",
       "      <td>46</td>\n",
       "    </tr>\n",
       "    <tr>\n",
       "      <th>modelo</th>\n",
       "      <td>39</td>\n",
       "    </tr>\n",
       "    <tr>\n",
       "      <th>delta_minutos</th>\n",
       "      <td>31</td>\n",
       "    </tr>\n",
       "    <tr>\n",
       "      <th>departamento_id</th>\n",
       "      <td>30</td>\n",
       "    </tr>\n",
       "    <tr>\n",
       "      <th>departamento</th>\n",
       "      <td>30</td>\n",
       "    </tr>\n",
       "    <tr>\n",
       "      <th>producto_origen</th>\n",
       "      <td>16</td>\n",
       "    </tr>\n",
       "    <tr>\n",
       "      <th>aseguradora_origen</th>\n",
       "      <td>14</td>\n",
       "    </tr>\n",
       "    <tr>\n",
       "      <th>mes_anio</th>\n",
       "      <td>7</td>\n",
       "    </tr>\n",
       "    <tr>\n",
       "      <th>mes</th>\n",
       "      <td>7</td>\n",
       "    </tr>\n",
       "    <tr>\n",
       "      <th>ocupacion</th>\n",
       "      <td>7</td>\n",
       "    </tr>\n",
       "    <tr>\n",
       "      <th>dia_semana</th>\n",
       "      <td>7</td>\n",
       "    </tr>\n",
       "    <tr>\n",
       "      <th>source_file</th>\n",
       "      <td>6</td>\n",
       "    </tr>\n",
       "    <tr>\n",
       "      <th>tipo_caja</th>\n",
       "      <td>4</td>\n",
       "    </tr>\n",
       "    <tr>\n",
       "      <th>tipo_identificacion</th>\n",
       "      <td>3</td>\n",
       "    </tr>\n",
       "    <tr>\n",
       "      <th>genero</th>\n",
       "      <td>2</td>\n",
       "    </tr>\n",
       "    <tr>\n",
       "      <th>vehiculo_nuevo</th>\n",
       "      <td>2</td>\n",
       "    </tr>\n",
       "    <tr>\n",
       "      <th>perdida_total_cobertura</th>\n",
       "      <td>2</td>\n",
       "    </tr>\n",
       "    <tr>\n",
       "      <th>emitido_cotizacion</th>\n",
       "      <td>2</td>\n",
       "    </tr>\n",
       "    <tr>\n",
       "      <th>rce_limite_unico</th>\n",
       "      <td>2</td>\n",
       "    </tr>\n",
       "    <tr>\n",
       "      <th>perdida_parcial_deducible</th>\n",
       "      <td>2</td>\n",
       "    </tr>\n",
       "    <tr>\n",
       "      <th>anio</th>\n",
       "      <td>2</td>\n",
       "    </tr>\n",
       "  </tbody>\n",
       "</table>\n",
       "</div>"
      ],
      "text/plain": [
       "                           valores_unicos\n",
       "valor_prima                        591297\n",
       "comparison_id                       34933\n",
       "fecha_nacimiento                    13097\n",
       "fasecolda_id                         2126\n",
       "referencia_vehiculo                  2124\n",
       "valor_fasecolda                      1377\n",
       "dane_id                               437\n",
       "ciudad                                424\n",
       "cotizacion_fecha                      185\n",
       "fecha_registro                        184\n",
       "edad                                   76\n",
       "aseguradora_producto                   60\n",
       "emitido_producto                       54\n",
       "marca                                  46\n",
       "modelo                                 39\n",
       "delta_minutos                          31\n",
       "departamento_id                        30\n",
       "departamento                           30\n",
       "producto_origen                        16\n",
       "aseguradora_origen                     14\n",
       "mes_anio                                7\n",
       "mes                                     7\n",
       "ocupacion                               7\n",
       "dia_semana                              7\n",
       "source_file                             6\n",
       "tipo_caja                               4\n",
       "tipo_identificacion                     3\n",
       "genero                                  2\n",
       "vehiculo_nuevo                          2\n",
       "perdida_total_cobertura                 2\n",
       "emitido_cotizacion                      2\n",
       "rce_limite_unico                        2\n",
       "perdida_parcial_deducible               2\n",
       "anio                                    2"
      ]
     },
     "execution_count": 47,
     "metadata": {},
     "output_type": "execute_result"
    }
   ],
   "source": [
    "cardinalidad = df_filtered.nunique().sort_values(ascending=False)\n",
    "cardinalidad.to_frame(name=\"valores_unicos\")"
   ]
  },
  {
   "cell_type": "markdown",
   "id": "14cb523c",
   "metadata": {},
   "source": [
    "### Estadísticas descriptivas básicas"
   ]
  },
  {
   "cell_type": "code",
   "execution_count": 48,
   "id": "bffec2e3",
   "metadata": {},
   "outputs": [],
   "source": [
    "ids_columns = ['comparison_id', 'fasecolda_id', 'dane_id', 'departamento_id']"
   ]
  },
  {
   "cell_type": "code",
   "execution_count": 49,
   "id": "ea3018ff",
   "metadata": {},
   "outputs": [
    {
     "data": {
      "text/html": [
       "<div>\n",
       "<style scoped>\n",
       "    .dataframe tbody tr th:only-of-type {\n",
       "        vertical-align: middle;\n",
       "    }\n",
       "\n",
       "    .dataframe tbody tr th {\n",
       "        vertical-align: top;\n",
       "    }\n",
       "\n",
       "    .dataframe thead th {\n",
       "        text-align: right;\n",
       "    }\n",
       "</style>\n",
       "<table border=\"1\" class=\"dataframe\">\n",
       "  <thead>\n",
       "    <tr style=\"text-align: right;\">\n",
       "      <th></th>\n",
       "      <th>count</th>\n",
       "      <th>mean</th>\n",
       "      <th>min</th>\n",
       "      <th>25%</th>\n",
       "      <th>50%</th>\n",
       "      <th>75%</th>\n",
       "      <th>max</th>\n",
       "      <th>std</th>\n",
       "    </tr>\n",
       "  </thead>\n",
       "  <tbody>\n",
       "    <tr>\n",
       "      <th>fecha_registro</th>\n",
       "      <td>684316</td>\n",
       "      <td>2024-10-30 15:59:01.458624512</td>\n",
       "      <td>2024-08-01 00:00:00</td>\n",
       "      <td>2024-09-12 00:00:00</td>\n",
       "      <td>2024-10-28 00:00:00</td>\n",
       "      <td>2024-12-18 00:00:00</td>\n",
       "      <td>2025-01-31 00:00:00</td>\n",
       "      <td>NaN</td>\n",
       "    </tr>\n",
       "    <tr>\n",
       "      <th>edad</th>\n",
       "      <td>684316.0</td>\n",
       "      <td>41.377748</td>\n",
       "      <td>20.0</td>\n",
       "      <td>31.0</td>\n",
       "      <td>39.0</td>\n",
       "      <td>49.0</td>\n",
       "      <td>1825.0</td>\n",
       "      <td>13.669632</td>\n",
       "    </tr>\n",
       "    <tr>\n",
       "      <th>valor_fasecolda</th>\n",
       "      <td>684316.0</td>\n",
       "      <td>47257119.10586</td>\n",
       "      <td>4800000.0</td>\n",
       "      <td>32900000.0</td>\n",
       "      <td>41900000.0</td>\n",
       "      <td>56500000.0</td>\n",
       "      <td>901000000.0</td>\n",
       "      <td>23309176.088565</td>\n",
       "    </tr>\n",
       "    <tr>\n",
       "      <th>modelo</th>\n",
       "      <td>684316.0</td>\n",
       "      <td>2017.516029</td>\n",
       "      <td>1980.0</td>\n",
       "      <td>2015.0</td>\n",
       "      <td>2018.0</td>\n",
       "      <td>2021.0</td>\n",
       "      <td>2026.0</td>\n",
       "      <td>4.469382</td>\n",
       "    </tr>\n",
       "    <tr>\n",
       "      <th>cotizacion_fecha</th>\n",
       "      <td>684316</td>\n",
       "      <td>2024-10-31 10:05:46.997585408</td>\n",
       "      <td>2024-08-01 00:00:00</td>\n",
       "      <td>2024-09-13 00:00:00</td>\n",
       "      <td>2024-10-29 00:00:00</td>\n",
       "      <td>2024-12-19 00:00:00</td>\n",
       "      <td>2025-02-01 00:00:00</td>\n",
       "      <td>NaN</td>\n",
       "    </tr>\n",
       "    <tr>\n",
       "      <th>valor_prima</th>\n",
       "      <td>684316.0</td>\n",
       "      <td>4213298.461782</td>\n",
       "      <td>11108.7</td>\n",
       "      <td>2477918.2</td>\n",
       "      <td>3572684.25</td>\n",
       "      <td>5181494.25</td>\n",
       "      <td>88460416.5</td>\n",
       "      <td>2616376.668826</td>\n",
       "    </tr>\n",
       "    <tr>\n",
       "      <th>delta_minutos</th>\n",
       "      <td>684316.0</td>\n",
       "      <td>1086.758983</td>\n",
       "      <td>0.0</td>\n",
       "      <td>0.0</td>\n",
       "      <td>0.0</td>\n",
       "      <td>0.0</td>\n",
       "      <td>43200.0</td>\n",
       "      <td>4622.446538</td>\n",
       "    </tr>\n",
       "    <tr>\n",
       "      <th>anio</th>\n",
       "      <td>684316.0</td>\n",
       "      <td>2024.183786</td>\n",
       "      <td>2024.0</td>\n",
       "      <td>2024.0</td>\n",
       "      <td>2024.0</td>\n",
       "      <td>2024.0</td>\n",
       "      <td>2025.0</td>\n",
       "      <td>0.38731</td>\n",
       "    </tr>\n",
       "    <tr>\n",
       "      <th>mes</th>\n",
       "      <td>684316.0</td>\n",
       "      <td>8.255326</td>\n",
       "      <td>1.0</td>\n",
       "      <td>8.0</td>\n",
       "      <td>9.0</td>\n",
       "      <td>11.0</td>\n",
       "      <td>12.0</td>\n",
       "      <td>3.665108</td>\n",
       "    </tr>\n",
       "    <tr>\n",
       "      <th>mes_anio</th>\n",
       "      <td>684316</td>\n",
       "      <td>2024-10-15 07:30:01.294138624</td>\n",
       "      <td>2024-08-01 00:00:00</td>\n",
       "      <td>2024-09-01 00:00:00</td>\n",
       "      <td>2024-10-01 00:00:00</td>\n",
       "      <td>2024-12-01 00:00:00</td>\n",
       "      <td>2025-02-01 00:00:00</td>\n",
       "      <td>NaN</td>\n",
       "    </tr>\n",
       "  </tbody>\n",
       "</table>\n",
       "</div>"
      ],
      "text/plain": [
       "                     count                           mean  \\\n",
       "fecha_registro      684316  2024-10-30 15:59:01.458624512   \n",
       "edad              684316.0                      41.377748   \n",
       "valor_fasecolda   684316.0                 47257119.10586   \n",
       "modelo            684316.0                    2017.516029   \n",
       "cotizacion_fecha    684316  2024-10-31 10:05:46.997585408   \n",
       "valor_prima       684316.0                 4213298.461782   \n",
       "delta_minutos     684316.0                    1086.758983   \n",
       "anio              684316.0                    2024.183786   \n",
       "mes               684316.0                       8.255326   \n",
       "mes_anio            684316  2024-10-15 07:30:01.294138624   \n",
       "\n",
       "                                  min                  25%  \\\n",
       "fecha_registro    2024-08-01 00:00:00  2024-09-12 00:00:00   \n",
       "edad                             20.0                 31.0   \n",
       "valor_fasecolda             4800000.0           32900000.0   \n",
       "modelo                         1980.0               2015.0   \n",
       "cotizacion_fecha  2024-08-01 00:00:00  2024-09-13 00:00:00   \n",
       "valor_prima                   11108.7            2477918.2   \n",
       "delta_minutos                     0.0                  0.0   \n",
       "anio                           2024.0               2024.0   \n",
       "mes                               1.0                  8.0   \n",
       "mes_anio          2024-08-01 00:00:00  2024-09-01 00:00:00   \n",
       "\n",
       "                                  50%                  75%  \\\n",
       "fecha_registro    2024-10-28 00:00:00  2024-12-18 00:00:00   \n",
       "edad                             39.0                 49.0   \n",
       "valor_fasecolda            41900000.0           56500000.0   \n",
       "modelo                         2018.0               2021.0   \n",
       "cotizacion_fecha  2024-10-29 00:00:00  2024-12-19 00:00:00   \n",
       "valor_prima                3572684.25           5181494.25   \n",
       "delta_minutos                     0.0                  0.0   \n",
       "anio                           2024.0               2024.0   \n",
       "mes                               9.0                 11.0   \n",
       "mes_anio          2024-10-01 00:00:00  2024-12-01 00:00:00   \n",
       "\n",
       "                                  max              std  \n",
       "fecha_registro    2025-01-31 00:00:00              NaN  \n",
       "edad                           1825.0        13.669632  \n",
       "valor_fasecolda           901000000.0  23309176.088565  \n",
       "modelo                         2026.0         4.469382  \n",
       "cotizacion_fecha  2025-02-01 00:00:00              NaN  \n",
       "valor_prima                88460416.5   2616376.668826  \n",
       "delta_minutos                 43200.0      4622.446538  \n",
       "anio                           2025.0          0.38731  \n",
       "mes                              12.0         3.665108  \n",
       "mes_anio          2025-02-01 00:00:00              NaN  "
      ]
     },
     "execution_count": 49,
     "metadata": {},
     "output_type": "execute_result"
    }
   ],
   "source": [
    "df_filtered.drop(columns=ids_columns).describe().T"
   ]
  },
  {
   "cell_type": "code",
   "execution_count": 50,
   "id": "ffec63f0",
   "metadata": {},
   "outputs": [
    {
     "data": {
      "text/html": [
       "<div>\n",
       "<style scoped>\n",
       "    .dataframe tbody tr th:only-of-type {\n",
       "        vertical-align: middle;\n",
       "    }\n",
       "\n",
       "    .dataframe tbody tr th {\n",
       "        vertical-align: top;\n",
       "    }\n",
       "\n",
       "    .dataframe thead th {\n",
       "        text-align: right;\n",
       "    }\n",
       "</style>\n",
       "<table border=\"1\" class=\"dataframe\">\n",
       "  <thead>\n",
       "    <tr style=\"text-align: right;\">\n",
       "      <th></th>\n",
       "      <th>count</th>\n",
       "      <th>unique</th>\n",
       "      <th>top</th>\n",
       "      <th>freq</th>\n",
       "      <th>top_percent</th>\n",
       "    </tr>\n",
       "  </thead>\n",
       "  <tbody>\n",
       "    <tr>\n",
       "      <th>aseguradora_origen</th>\n",
       "      <td>684316</td>\n",
       "      <td>14</td>\n",
       "      <td>Aseguradora2</td>\n",
       "      <td>110059</td>\n",
       "      <td>16.083067</td>\n",
       "    </tr>\n",
       "    <tr>\n",
       "      <th>aseguradora_producto</th>\n",
       "      <td>684316</td>\n",
       "      <td>60</td>\n",
       "      <td>Aseguradora8_Todo Riesgo Bajo</td>\n",
       "      <td>78660</td>\n",
       "      <td>11.49469</td>\n",
       "    </tr>\n",
       "    <tr>\n",
       "      <th>ciudad</th>\n",
       "      <td>684316</td>\n",
       "      <td>424</td>\n",
       "      <td>Bogotá D.C.</td>\n",
       "      <td>218850</td>\n",
       "      <td>31.980839</td>\n",
       "    </tr>\n",
       "    <tr>\n",
       "      <th>departamento</th>\n",
       "      <td>684316</td>\n",
       "      <td>30</td>\n",
       "      <td>Bogotá D.C.</td>\n",
       "      <td>218850</td>\n",
       "      <td>31.980839</td>\n",
       "    </tr>\n",
       "    <tr>\n",
       "      <th>dia_semana</th>\n",
       "      <td>684316</td>\n",
       "      <td>7</td>\n",
       "      <td>Thursday</td>\n",
       "      <td>130935</td>\n",
       "      <td>19.133704</td>\n",
       "    </tr>\n",
       "    <tr>\n",
       "      <th>emitido_producto</th>\n",
       "      <td>163291</td>\n",
       "      <td>54</td>\n",
       "      <td>Aseguradora2_Todo Riesgo Bajo</td>\n",
       "      <td>17910</td>\n",
       "      <td>2.617212</td>\n",
       "    </tr>\n",
       "    <tr>\n",
       "      <th>fecha_nacimiento</th>\n",
       "      <td>582229</td>\n",
       "      <td>13097</td>\n",
       "      <td>2000-05-12</td>\n",
       "      <td>726</td>\n",
       "      <td>0.106091</td>\n",
       "    </tr>\n",
       "    <tr>\n",
       "      <th>genero</th>\n",
       "      <td>684316</td>\n",
       "      <td>2</td>\n",
       "      <td>Masculino</td>\n",
       "      <td>416560</td>\n",
       "      <td>60.872462</td>\n",
       "    </tr>\n",
       "    <tr>\n",
       "      <th>marca</th>\n",
       "      <td>684316</td>\n",
       "      <td>46</td>\n",
       "      <td>RENAULT</td>\n",
       "      <td>162558</td>\n",
       "      <td>23.754815</td>\n",
       "    </tr>\n",
       "    <tr>\n",
       "      <th>ocupacion</th>\n",
       "      <td>684316</td>\n",
       "      <td>7</td>\n",
       "      <td>Estudiante</td>\n",
       "      <td>562942</td>\n",
       "      <td>82.263457</td>\n",
       "    </tr>\n",
       "    <tr>\n",
       "      <th>perdida_parcial_deducible</th>\n",
       "      <td>684316</td>\n",
       "      <td>2</td>\n",
       "      <td>SUPERIOR</td>\n",
       "      <td>362542</td>\n",
       "      <td>52.978741</td>\n",
       "    </tr>\n",
       "    <tr>\n",
       "      <th>perdida_total_cobertura</th>\n",
       "      <td>684316</td>\n",
       "      <td>2</td>\n",
       "      <td>IGUAL</td>\n",
       "      <td>586405</td>\n",
       "      <td>85.692136</td>\n",
       "    </tr>\n",
       "    <tr>\n",
       "      <th>producto_origen</th>\n",
       "      <td>684316</td>\n",
       "      <td>16</td>\n",
       "      <td>Todo Riesgo Bajo</td>\n",
       "      <td>309305</td>\n",
       "      <td>45.199148</td>\n",
       "    </tr>\n",
       "    <tr>\n",
       "      <th>referencia_vehiculo</th>\n",
       "      <td>684316</td>\n",
       "      <td>2124</td>\n",
       "      <td>SWIFT [4] DZIRE MT 1200CC 4P 2AB ABS (AUTOMOVIL)</td>\n",
       "      <td>10218</td>\n",
       "      <td>1.49317</td>\n",
       "    </tr>\n",
       "    <tr>\n",
       "      <th>source_file</th>\n",
       "      <td>684316</td>\n",
       "      <td>6</td>\n",
       "      <td>2024-9</td>\n",
       "      <td>126486</td>\n",
       "      <td>18.483566</td>\n",
       "    </tr>\n",
       "    <tr>\n",
       "      <th>tipo_caja</th>\n",
       "      <td>684316</td>\n",
       "      <td>4</td>\n",
       "      <td>MT</td>\n",
       "      <td>460482</td>\n",
       "      <td>67.290842</td>\n",
       "    </tr>\n",
       "    <tr>\n",
       "      <th>tipo_identificacion</th>\n",
       "      <td>684316</td>\n",
       "      <td>3</td>\n",
       "      <td>CC</td>\n",
       "      <td>678985</td>\n",
       "      <td>99.220974</td>\n",
       "    </tr>\n",
       "    <tr>\n",
       "      <th>vehiculo_nuevo</th>\n",
       "      <td>684316</td>\n",
       "      <td>2</td>\n",
       "      <td>Usado</td>\n",
       "      <td>661834</td>\n",
       "      <td>96.714676</td>\n",
       "    </tr>\n",
       "  </tbody>\n",
       "</table>\n",
       "</div>"
      ],
      "text/plain": [
       "                            count unique  \\\n",
       "aseguradora_origen         684316     14   \n",
       "aseguradora_producto       684316     60   \n",
       "ciudad                     684316    424   \n",
       "departamento               684316     30   \n",
       "dia_semana                 684316      7   \n",
       "emitido_producto           163291     54   \n",
       "fecha_nacimiento           582229  13097   \n",
       "genero                     684316      2   \n",
       "marca                      684316     46   \n",
       "ocupacion                  684316      7   \n",
       "perdida_parcial_deducible  684316      2   \n",
       "perdida_total_cobertura    684316      2   \n",
       "producto_origen            684316     16   \n",
       "referencia_vehiculo        684316   2124   \n",
       "source_file                684316      6   \n",
       "tipo_caja                  684316      4   \n",
       "tipo_identificacion        684316      3   \n",
       "vehiculo_nuevo             684316      2   \n",
       "\n",
       "                                                                        top  \\\n",
       "aseguradora_origen                                             Aseguradora2   \n",
       "aseguradora_producto                          Aseguradora8_Todo Riesgo Bajo   \n",
       "ciudad                                                          Bogotá D.C.   \n",
       "departamento                                                    Bogotá D.C.   \n",
       "dia_semana                                                         Thursday   \n",
       "emitido_producto                              Aseguradora2_Todo Riesgo Bajo   \n",
       "fecha_nacimiento                                                 2000-05-12   \n",
       "genero                                                            Masculino   \n",
       "marca                                                               RENAULT   \n",
       "ocupacion                                                        Estudiante   \n",
       "perdida_parcial_deducible                                          SUPERIOR   \n",
       "perdida_total_cobertura                                               IGUAL   \n",
       "producto_origen                                            Todo Riesgo Bajo   \n",
       "referencia_vehiculo        SWIFT [4] DZIRE MT 1200CC 4P 2AB ABS (AUTOMOVIL)   \n",
       "source_file                                                          2024-9   \n",
       "tipo_caja                                                                MT   \n",
       "tipo_identificacion                                                      CC   \n",
       "vehiculo_nuevo                                                        Usado   \n",
       "\n",
       "                             freq top_percent  \n",
       "aseguradora_origen         110059   16.083067  \n",
       "aseguradora_producto        78660    11.49469  \n",
       "ciudad                     218850   31.980839  \n",
       "departamento               218850   31.980839  \n",
       "dia_semana                 130935   19.133704  \n",
       "emitido_producto            17910    2.617212  \n",
       "fecha_nacimiento              726    0.106091  \n",
       "genero                     416560   60.872462  \n",
       "marca                      162558   23.754815  \n",
       "ocupacion                  562942   82.263457  \n",
       "perdida_parcial_deducible  362542   52.978741  \n",
       "perdida_total_cobertura    586405   85.692136  \n",
       "producto_origen            309305   45.199148  \n",
       "referencia_vehiculo         10218     1.49317  \n",
       "source_file                126486   18.483566  \n",
       "tipo_caja                  460482   67.290842  \n",
       "tipo_identificacion        678985   99.220974  \n",
       "vehiculo_nuevo             661834   96.714676  "
      ]
     },
     "execution_count": 50,
     "metadata": {},
     "output_type": "execute_result"
    }
   ],
   "source": [
    "# Seleccionar solo variables categóricas excluyendo los IDs\n",
    "cat_cols = df_filtered.select_dtypes(include='object').columns.difference(ids_columns)\n",
    "\n",
    "# Descriptivo base\n",
    "desc = df_filtered[cat_cols].describe().T\n",
    "\n",
    "# Calcular porcentaje del valor top\n",
    "desc['top_percent'] = (\n",
    "    desc['freq'] / df_filtered.shape[0] * 100\n",
    ").round(2)\n",
    "\n",
    "desc[['count', 'unique', 'top', 'freq', 'top_percent']]"
   ]
  },
  {
   "cell_type": "code",
   "execution_count": 104,
   "id": "a018569c",
   "metadata": {},
   "outputs": [
    {
     "data": {
      "image/png": "[encoded data removed]",
      "text/plain": [
       "<Figure size 1200x600 with 1 Axes>"
      ]
     },
     "metadata": {},
     "output_type": "display_data"
    }
   ],
   "source": [
    "df_filtered['edad'].describe()\n",
    "\n",
    "sns.histplot(df_filtered['edad'], bins=20, kde=True)\n",
    "plt.title(\"Distribución de edad\")\n",
    "plt.show()"
   ]
  },
  {
   "cell_type": "markdown",
   "id": "196e5146",
   "metadata": {},
   "source": [
    "### Variable objetivo"
   ]
  },
  {
   "cell_type": "code",
   "execution_count": 105,
   "id": "f5edb7d1",
   "metadata": {},
   "outputs": [
    {
     "data": {
      "text/html": [
       "<div>\n",
       "<style scoped>\n",
       "    .dataframe tbody tr th:only-of-type {\n",
       "        vertical-align: middle;\n",
       "    }\n",
       "\n",
       "    .dataframe tbody tr th {\n",
       "        vertical-align: top;\n",
       "    }\n",
       "\n",
       "    .dataframe thead th {\n",
       "        text-align: right;\n",
       "    }\n",
       "</style>\n",
       "<table border=\"1\" class=\"dataframe\">\n",
       "  <thead>\n",
       "    <tr style=\"text-align: right;\">\n",
       "      <th></th>\n",
       "      <th>emitido</th>\n",
       "      <th>proporcion</th>\n",
       "    </tr>\n",
       "  </thead>\n",
       "  <tbody>\n",
       "    <tr>\n",
       "      <th>0</th>\n",
       "      <td>0</td>\n",
       "      <td>76.14</td>\n",
       "    </tr>\n",
       "    <tr>\n",
       "      <th>1</th>\n",
       "      <td>1</td>\n",
       "      <td>23.86</td>\n",
       "    </tr>\n",
       "  </tbody>\n",
       "</table>\n",
       "</div>"
      ],
      "text/plain": [
       "   emitido  proporcion\n",
       "0        0       76.14\n",
       "1        1       23.86"
      ]
     },
     "execution_count": 105,
     "metadata": {},
     "output_type": "execute_result"
    }
   ],
   "source": [
    "df_filtered['emitido'] = df_filtered['emitido_producto'].notna().astype(int)\n",
    "emitido_counts = df_filtered['emitido'].value_counts(normalize=True).rename_axis('emitido').reset_index(name='proporcion')\n",
    "emitido_counts['proporcion'] = (emitido_counts['proporcion'] * 100).round(2)\n",
    "emitido_counts"
   ]
  },
  {
   "cell_type": "markdown",
   "id": "3dd66416",
   "metadata": {},
   "source": [
    "### Eliminar columnas redundantes o sin información útil"
   ]
  },
  {
   "cell_type": "code",
   "execution_count": 55,
   "id": "023a30d7",
   "metadata": {},
   "outputs": [
    {
     "name": "stdout",
     "output_type": "stream",
     "text": [
      "<class 'pandas.core.frame.DataFrame'>\n",
      "RangeIndex: 684316 entries, 0 to 684315\n",
      "Data columns (total 34 columns):\n",
      " #   Column                     Non-Null Count   Dtype         \n",
      "---  ------                     --------------   -----         \n",
      " 0   fecha_registro             684316 non-null  datetime64[ns]\n",
      " 1   comparison_id              684316 non-null  object        \n",
      " 2   edad                       684316 non-null  int64         \n",
      " 3   ocupacion                  684316 non-null  object        \n",
      " 4   tipo_identificacion        684316 non-null  object        \n",
      " 5   genero                     684316 non-null  object        \n",
      " 6   fasecolda_id               684316 non-null  object        \n",
      " 7   marca                      684316 non-null  object        \n",
      " 8   referencia_vehiculo        684316 non-null  object        \n",
      " 9   tipo_caja                  684316 non-null  object        \n",
      " 10  valor_fasecolda            684316 non-null  int64         \n",
      " 11  modelo                     684316 non-null  int64         \n",
      " 12  dane_id                    684316 non-null  object        \n",
      " 13  ciudad                     684316 non-null  object        \n",
      " 14  departamento_id            684316 non-null  object        \n",
      " 15  departamento               684316 non-null  object        \n",
      " 16  vehiculo_nuevo             684316 non-null  object        \n",
      " 17  aseguradora_producto       684316 non-null  object        \n",
      " 18  cotizacion_fecha           684316 non-null  datetime64[ns]\n",
      " 19  valor_prima                684316 non-null  float64       \n",
      " 20  perdida_total_cobertura    684316 non-null  object        \n",
      " 21  perdida_parcial_deducible  684316 non-null  object        \n",
      " 22  rce_limite_unico           684316 non-null  bool          \n",
      " 23  emitido_producto           163291 non-null  object        \n",
      " 24  emitido_cotizacion         684316 non-null  bool          \n",
      " 25  source_file                684316 non-null  object        \n",
      " 26  delta_minutos              684316 non-null  float64       \n",
      " 27  anio                       684316 non-null  int32         \n",
      " 28  mes                        684316 non-null  int32         \n",
      " 29  dia_semana                 684316 non-null  object        \n",
      " 30  mes_anio                   684316 non-null  datetime64[ns]\n",
      " 31  aseguradora_origen         684316 non-null  object        \n",
      " 32  producto_origen            684316 non-null  object        \n",
      " 33  emitido                    684316 non-null  int64         \n",
      "dtypes: bool(2), datetime64[ns](3), float64(2), int32(2), int64(4), object(21)\n",
      "memory usage: 163.2+ MB\n"
     ]
    }
   ],
   "source": [
    "df_filtered.drop(columns=['fecha_nacimiento'], inplace=True)\n",
    "df_filtered.info()"
   ]
  },
  {
   "cell_type": "code",
   "execution_count": 66,
   "id": "dcc1981e",
   "metadata": {},
   "outputs": [
    {
     "data": {
      "text/html": [
       "<div>\n",
       "<style scoped>\n",
       "    .dataframe tbody tr th:only-of-type {\n",
       "        vertical-align: middle;\n",
       "    }\n",
       "\n",
       "    .dataframe tbody tr th {\n",
       "        vertical-align: top;\n",
       "    }\n",
       "\n",
       "    .dataframe thead th {\n",
       "        text-align: right;\n",
       "    }\n",
       "</style>\n",
       "<table border=\"1\" class=\"dataframe\">\n",
       "  <thead>\n",
       "    <tr style=\"text-align: right;\">\n",
       "      <th></th>\n",
       "      <th>modelo</th>\n",
       "      <th>proporcion</th>\n",
       "    </tr>\n",
       "  </thead>\n",
       "  <tbody>\n",
       "    <tr>\n",
       "      <th>0</th>\n",
       "      <td>2019</td>\n",
       "      <td>0.087875</td>\n",
       "    </tr>\n",
       "    <tr>\n",
       "      <th>1</th>\n",
       "      <td>2022</td>\n",
       "      <td>0.087394</td>\n",
       "    </tr>\n",
       "    <tr>\n",
       "      <th>2</th>\n",
       "      <td>2020</td>\n",
       "      <td>0.082522</td>\n",
       "    </tr>\n",
       "    <tr>\n",
       "      <th>3</th>\n",
       "      <td>2017</td>\n",
       "      <td>0.079243</td>\n",
       "    </tr>\n",
       "    <tr>\n",
       "      <th>4</th>\n",
       "      <td>2023</td>\n",
       "      <td>0.077908</td>\n",
       "    </tr>\n",
       "    <tr>\n",
       "      <th>5</th>\n",
       "      <td>2015</td>\n",
       "      <td>0.074796</td>\n",
       "    </tr>\n",
       "    <tr>\n",
       "      <th>6</th>\n",
       "      <td>2016</td>\n",
       "      <td>0.072600</td>\n",
       "    </tr>\n",
       "    <tr>\n",
       "      <th>7</th>\n",
       "      <td>2018</td>\n",
       "      <td>0.071017</td>\n",
       "    </tr>\n",
       "    <tr>\n",
       "      <th>8</th>\n",
       "      <td>2013</td>\n",
       "      <td>0.053817</td>\n",
       "    </tr>\n",
       "    <tr>\n",
       "      <th>9</th>\n",
       "      <td>2021</td>\n",
       "      <td>0.053619</td>\n",
       "    </tr>\n",
       "    <tr>\n",
       "      <th>10</th>\n",
       "      <td>2014</td>\n",
       "      <td>0.052268</td>\n",
       "    </tr>\n",
       "    <tr>\n",
       "      <th>11</th>\n",
       "      <td>2012</td>\n",
       "      <td>0.047235</td>\n",
       "    </tr>\n",
       "    <tr>\n",
       "      <th>12</th>\n",
       "      <td>2011</td>\n",
       "      <td>0.040189</td>\n",
       "    </tr>\n",
       "    <tr>\n",
       "      <th>13</th>\n",
       "      <td>2024</td>\n",
       "      <td>0.034221</td>\n",
       "    </tr>\n",
       "    <tr>\n",
       "      <th>14</th>\n",
       "      <td>2025</td>\n",
       "      <td>0.029812</td>\n",
       "    </tr>\n",
       "    <tr>\n",
       "      <th>15</th>\n",
       "      <td>2010</td>\n",
       "      <td>0.016191</td>\n",
       "    </tr>\n",
       "    <tr>\n",
       "      <th>16</th>\n",
       "      <td>2009</td>\n",
       "      <td>0.010947</td>\n",
       "    </tr>\n",
       "    <tr>\n",
       "      <th>17</th>\n",
       "      <td>2008</td>\n",
       "      <td>0.009607</td>\n",
       "    </tr>\n",
       "    <tr>\n",
       "      <th>18</th>\n",
       "      <td>2007</td>\n",
       "      <td>0.006253</td>\n",
       "    </tr>\n",
       "    <tr>\n",
       "      <th>19</th>\n",
       "      <td>2006</td>\n",
       "      <td>0.004007</td>\n",
       "    </tr>\n",
       "    <tr>\n",
       "      <th>20</th>\n",
       "      <td>2005</td>\n",
       "      <td>0.002657</td>\n",
       "    </tr>\n",
       "    <tr>\n",
       "      <th>21</th>\n",
       "      <td>2004</td>\n",
       "      <td>0.001077</td>\n",
       "    </tr>\n",
       "    <tr>\n",
       "      <th>22</th>\n",
       "      <td>2026</td>\n",
       "      <td>0.000783</td>\n",
       "    </tr>\n",
       "    <tr>\n",
       "      <th>23</th>\n",
       "      <td>2003</td>\n",
       "      <td>0.000681</td>\n",
       "    </tr>\n",
       "    <tr>\n",
       "      <th>24</th>\n",
       "      <td>1998</td>\n",
       "      <td>0.000608</td>\n",
       "    </tr>\n",
       "    <tr>\n",
       "      <th>25</th>\n",
       "      <td>2002</td>\n",
       "      <td>0.000528</td>\n",
       "    </tr>\n",
       "    <tr>\n",
       "      <th>26</th>\n",
       "      <td>1997</td>\n",
       "      <td>0.000396</td>\n",
       "    </tr>\n",
       "    <tr>\n",
       "      <th>27</th>\n",
       "      <td>2000</td>\n",
       "      <td>0.000376</td>\n",
       "    </tr>\n",
       "    <tr>\n",
       "      <th>28</th>\n",
       "      <td>2001</td>\n",
       "      <td>0.000359</td>\n",
       "    </tr>\n",
       "    <tr>\n",
       "      <th>29</th>\n",
       "      <td>1995</td>\n",
       "      <td>0.000281</td>\n",
       "    </tr>\n",
       "    <tr>\n",
       "      <th>30</th>\n",
       "      <td>1996</td>\n",
       "      <td>0.000248</td>\n",
       "    </tr>\n",
       "    <tr>\n",
       "      <th>31</th>\n",
       "      <td>1994</td>\n",
       "      <td>0.000210</td>\n",
       "    </tr>\n",
       "    <tr>\n",
       "      <th>32</th>\n",
       "      <td>1999</td>\n",
       "      <td>0.000191</td>\n",
       "    </tr>\n",
       "    <tr>\n",
       "      <th>33</th>\n",
       "      <td>1993</td>\n",
       "      <td>0.000045</td>\n",
       "    </tr>\n",
       "    <tr>\n",
       "      <th>34</th>\n",
       "      <td>1992</td>\n",
       "      <td>0.000016</td>\n",
       "    </tr>\n",
       "    <tr>\n",
       "      <th>35</th>\n",
       "      <td>1991</td>\n",
       "      <td>0.000010</td>\n",
       "    </tr>\n",
       "    <tr>\n",
       "      <th>36</th>\n",
       "      <td>1990</td>\n",
       "      <td>0.000010</td>\n",
       "    </tr>\n",
       "    <tr>\n",
       "      <th>37</th>\n",
       "      <td>1989</td>\n",
       "      <td>0.000001</td>\n",
       "    </tr>\n",
       "    <tr>\n",
       "      <th>38</th>\n",
       "      <td>1980</td>\n",
       "      <td>0.000001</td>\n",
       "    </tr>\n",
       "  </tbody>\n",
       "</table>\n",
       "</div>"
      ],
      "text/plain": [
       "    modelo  proporcion\n",
       "0     2019    0.087875\n",
       "1     2022    0.087394\n",
       "2     2020    0.082522\n",
       "3     2017    0.079243\n",
       "4     2023    0.077908\n",
       "5     2015    0.074796\n",
       "6     2016    0.072600\n",
       "7     2018    0.071017\n",
       "8     2013    0.053817\n",
       "9     2021    0.053619\n",
       "10    2014    0.052268\n",
       "11    2012    0.047235\n",
       "12    2011    0.040189\n",
       "13    2024    0.034221\n",
       "14    2025    0.029812\n",
       "15    2010    0.016191\n",
       "16    2009    0.010947\n",
       "17    2008    0.009607\n",
       "18    2007    0.006253\n",
       "19    2006    0.004007\n",
       "20    2005    0.002657\n",
       "21    2004    0.001077\n",
       "22    2026    0.000783\n",
       "23    2003    0.000681\n",
       "24    1998    0.000608\n",
       "25    2002    0.000528\n",
       "26    1997    0.000396\n",
       "27    2000    0.000376\n",
       "28    2001    0.000359\n",
       "29    1995    0.000281\n",
       "30    1996    0.000248\n",
       "31    1994    0.000210\n",
       "32    1999    0.000191\n",
       "33    1993    0.000045\n",
       "34    1992    0.000016\n",
       "35    1991    0.000010\n",
       "36    1990    0.000010\n",
       "37    1989    0.000001\n",
       "38    1980    0.000001"
      ]
     },
     "execution_count": 66,
     "metadata": {},
     "output_type": "execute_result"
    }
   ],
   "source": [
    "df_filtered['modelo'].value_counts(normalize=True).rename_axis('modelo').reset_index(name='proporcion')"
   ]
  },
  {
   "cell_type": "code",
   "execution_count": 65,
   "id": "f93a58cc",
   "metadata": {},
   "outputs": [
    {
     "data": {
      "text/html": [
       "<div>\n",
       "<style scoped>\n",
       "    .dataframe tbody tr th:only-of-type {\n",
       "        vertical-align: middle;\n",
       "    }\n",
       "\n",
       "    .dataframe tbody tr th {\n",
       "        vertical-align: top;\n",
       "    }\n",
       "\n",
       "    .dataframe thead th {\n",
       "        text-align: right;\n",
       "    }\n",
       "</style>\n",
       "<table border=\"1\" class=\"dataframe\">\n",
       "  <thead>\n",
       "    <tr style=\"text-align: right;\">\n",
       "      <th></th>\n",
       "      <th>vehiculo_nuevo</th>\n",
       "      <th>proporcion</th>\n",
       "    </tr>\n",
       "  </thead>\n",
       "  <tbody>\n",
       "    <tr>\n",
       "      <th>0</th>\n",
       "      <td>Usado</td>\n",
       "      <td>0.967147</td>\n",
       "    </tr>\n",
       "    <tr>\n",
       "      <th>1</th>\n",
       "      <td>Nuevo</td>\n",
       "      <td>0.032853</td>\n",
       "    </tr>\n",
       "  </tbody>\n",
       "</table>\n",
       "</div>"
      ],
      "text/plain": [
       "  vehiculo_nuevo  proporcion\n",
       "0          Usado    0.967147\n",
       "1          Nuevo    0.032853"
      ]
     },
     "execution_count": 65,
     "metadata": {},
     "output_type": "execute_result"
    }
   ],
   "source": [
    "df_filtered['vehiculo_nuevo'].value_counts(normalize=True).rename_axis('vehiculo_nuevo').reset_index(name='proporcion')"
   ]
  },
  {
   "cell_type": "code",
   "execution_count": 59,
   "id": "b66d2eab",
   "metadata": {},
   "outputs": [
    {
     "data": {
      "text/html": [
       "<div>\n",
       "<style scoped>\n",
       "    .dataframe tbody tr th:only-of-type {\n",
       "        vertical-align: middle;\n",
       "    }\n",
       "\n",
       "    .dataframe tbody tr th {\n",
       "        vertical-align: top;\n",
       "    }\n",
       "\n",
       "    .dataframe thead th {\n",
       "        text-align: right;\n",
       "    }\n",
       "</style>\n",
       "<table border=\"1\" class=\"dataframe\">\n",
       "  <thead>\n",
       "    <tr style=\"text-align: right;\">\n",
       "      <th></th>\n",
       "      <th>ocupacion</th>\n",
       "      <th>proporcion</th>\n",
       "    </tr>\n",
       "  </thead>\n",
       "  <tbody>\n",
       "    <tr>\n",
       "      <th>0</th>\n",
       "      <td>Estudiante</td>\n",
       "      <td>0.822635</td>\n",
       "    </tr>\n",
       "    <tr>\n",
       "      <th>1</th>\n",
       "      <td>Empleado</td>\n",
       "      <td>0.146147</td>\n",
       "    </tr>\n",
       "    <tr>\n",
       "      <th>2</th>\n",
       "      <td>Independiente</td>\n",
       "      <td>0.019918</td>\n",
       "    </tr>\n",
       "    <tr>\n",
       "      <th>3</th>\n",
       "      <td>Inversionista</td>\n",
       "      <td>0.004624</td>\n",
       "    </tr>\n",
       "    <tr>\n",
       "      <th>4</th>\n",
       "      <td>Pensionado</td>\n",
       "      <td>0.003415</td>\n",
       "    </tr>\n",
       "    <tr>\n",
       "      <th>5</th>\n",
       "      <td>Rentista</td>\n",
       "      <td>0.002800</td>\n",
       "    </tr>\n",
       "    <tr>\n",
       "      <th>6</th>\n",
       "      <td>Comerciante</td>\n",
       "      <td>0.000462</td>\n",
       "    </tr>\n",
       "  </tbody>\n",
       "</table>\n",
       "</div>"
      ],
      "text/plain": [
       "       ocupacion  proporcion\n",
       "0     Estudiante    0.822635\n",
       "1       Empleado    0.146147\n",
       "2  Independiente    0.019918\n",
       "3  Inversionista    0.004624\n",
       "4     Pensionado    0.003415\n",
       "5       Rentista    0.002800\n",
       "6    Comerciante    0.000462"
      ]
     },
     "execution_count": 59,
     "metadata": {},
     "output_type": "execute_result"
    }
   ],
   "source": [
    "df_filtered['ocupacion'].value_counts(normalize=True).rename_axis('ocupacion').reset_index(name='proporcion')"
   ]
  },
  {
   "cell_type": "code",
   "execution_count": 62,
   "id": "b4c1710c",
   "metadata": {},
   "outputs": [
    {
     "data": {
      "text/html": [
       "<div>\n",
       "<style scoped>\n",
       "    .dataframe tbody tr th:only-of-type {\n",
       "        vertical-align: middle;\n",
       "    }\n",
       "\n",
       "    .dataframe tbody tr th {\n",
       "        vertical-align: top;\n",
       "    }\n",
       "\n",
       "    .dataframe thead th {\n",
       "        text-align: right;\n",
       "    }\n",
       "</style>\n",
       "<table border=\"1\" class=\"dataframe\">\n",
       "  <thead>\n",
       "    <tr style=\"text-align: right;\">\n",
       "      <th></th>\n",
       "      <th>ciudad</th>\n",
       "      <th>proporcion</th>\n",
       "    </tr>\n",
       "  </thead>\n",
       "  <tbody>\n",
       "    <tr>\n",
       "      <th>0</th>\n",
       "      <td>Bogotá D.C.</td>\n",
       "      <td>0.319808</td>\n",
       "    </tr>\n",
       "    <tr>\n",
       "      <th>1</th>\n",
       "      <td>Medellin</td>\n",
       "      <td>0.136392</td>\n",
       "    </tr>\n",
       "    <tr>\n",
       "      <th>2</th>\n",
       "      <td>Cali</td>\n",
       "      <td>0.103243</td>\n",
       "    </tr>\n",
       "    <tr>\n",
       "      <th>3</th>\n",
       "      <td>Barranquilla</td>\n",
       "      <td>0.040794</td>\n",
       "    </tr>\n",
       "    <tr>\n",
       "      <th>4</th>\n",
       "      <td>Pereira</td>\n",
       "      <td>0.020385</td>\n",
       "    </tr>\n",
       "    <tr>\n",
       "      <th>...</th>\n",
       "      <td>...</td>\n",
       "      <td>...</td>\n",
       "    </tr>\n",
       "    <tr>\n",
       "      <th>419</th>\n",
       "      <td>Gachala</td>\n",
       "      <td>0.000006</td>\n",
       "    </tr>\n",
       "    <tr>\n",
       "      <th>420</th>\n",
       "      <td>San Benito Abad</td>\n",
       "      <td>0.000006</td>\n",
       "    </tr>\n",
       "    <tr>\n",
       "      <th>421</th>\n",
       "      <td>Pensilvania</td>\n",
       "      <td>0.000004</td>\n",
       "    </tr>\n",
       "    <tr>\n",
       "      <th>422</th>\n",
       "      <td>Morales</td>\n",
       "      <td>0.000004</td>\n",
       "    </tr>\n",
       "    <tr>\n",
       "      <th>423</th>\n",
       "      <td>Colon</td>\n",
       "      <td>0.000001</td>\n",
       "    </tr>\n",
       "  </tbody>\n",
       "</table>\n",
       "<p>424 rows × 2 columns</p>\n",
       "</div>"
      ],
      "text/plain": [
       "              ciudad  proporcion\n",
       "0        Bogotá D.C.    0.319808\n",
       "1           Medellin    0.136392\n",
       "2               Cali    0.103243\n",
       "3       Barranquilla    0.040794\n",
       "4            Pereira    0.020385\n",
       "..               ...         ...\n",
       "419          Gachala    0.000006\n",
       "420  San Benito Abad    0.000006\n",
       "421      Pensilvania    0.000004\n",
       "422          Morales    0.000004\n",
       "423            Colon    0.000001\n",
       "\n",
       "[424 rows x 2 columns]"
      ]
     },
     "execution_count": 62,
     "metadata": {},
     "output_type": "execute_result"
    }
   ],
   "source": [
    "df_filtered['ciudad'].value_counts(normalize=True).rename_axis('ciudad').reset_index(name='proporcion')"
   ]
  },
  {
   "cell_type": "code",
   "execution_count": 63,
   "id": "5fbab720",
   "metadata": {},
   "outputs": [
    {
     "data": {
      "text/html": [
       "<div>\n",
       "<style scoped>\n",
       "    .dataframe tbody tr th:only-of-type {\n",
       "        vertical-align: middle;\n",
       "    }\n",
       "\n",
       "    .dataframe tbody tr th {\n",
       "        vertical-align: top;\n",
       "    }\n",
       "\n",
       "    .dataframe thead th {\n",
       "        text-align: right;\n",
       "    }\n",
       "</style>\n",
       "<table border=\"1\" class=\"dataframe\">\n",
       "  <thead>\n",
       "    <tr style=\"text-align: right;\">\n",
       "      <th></th>\n",
       "      <th>departamento</th>\n",
       "      <th>proporcion</th>\n",
       "    </tr>\n",
       "  </thead>\n",
       "  <tbody>\n",
       "    <tr>\n",
       "      <th>0</th>\n",
       "      <td>Bogotá D.C.</td>\n",
       "      <td>0.319808</td>\n",
       "    </tr>\n",
       "    <tr>\n",
       "      <th>1</th>\n",
       "      <td>Antioquia</td>\n",
       "      <td>0.225297</td>\n",
       "    </tr>\n",
       "    <tr>\n",
       "      <th>2</th>\n",
       "      <td>Valle del Cauca</td>\n",
       "      <td>0.133349</td>\n",
       "    </tr>\n",
       "    <tr>\n",
       "      <th>3</th>\n",
       "      <td>Cundinamarca</td>\n",
       "      <td>0.052786</td>\n",
       "    </tr>\n",
       "    <tr>\n",
       "      <th>4</th>\n",
       "      <td>Atlántico</td>\n",
       "      <td>0.050057</td>\n",
       "    </tr>\n",
       "    <tr>\n",
       "      <th>5</th>\n",
       "      <td>Santander</td>\n",
       "      <td>0.029879</td>\n",
       "    </tr>\n",
       "    <tr>\n",
       "      <th>6</th>\n",
       "      <td>Risaralda</td>\n",
       "      <td>0.028827</td>\n",
       "    </tr>\n",
       "    <tr>\n",
       "      <th>7</th>\n",
       "      <td>Caldas</td>\n",
       "      <td>0.022516</td>\n",
       "    </tr>\n",
       "    <tr>\n",
       "      <th>8</th>\n",
       "      <td>Bolívar</td>\n",
       "      <td>0.019757</td>\n",
       "    </tr>\n",
       "    <tr>\n",
       "      <th>9</th>\n",
       "      <td>Tolima</td>\n",
       "      <td>0.018147</td>\n",
       "    </tr>\n",
       "    <tr>\n",
       "      <th>10</th>\n",
       "      <td>Boyacá</td>\n",
       "      <td>0.012510</td>\n",
       "    </tr>\n",
       "    <tr>\n",
       "      <th>11</th>\n",
       "      <td>Meta</td>\n",
       "      <td>0.012342</td>\n",
       "    </tr>\n",
       "    <tr>\n",
       "      <th>12</th>\n",
       "      <td>Quindío</td>\n",
       "      <td>0.010067</td>\n",
       "    </tr>\n",
       "    <tr>\n",
       "      <th>13</th>\n",
       "      <td>Cauca</td>\n",
       "      <td>0.010030</td>\n",
       "    </tr>\n",
       "    <tr>\n",
       "      <th>14</th>\n",
       "      <td>Nariño</td>\n",
       "      <td>0.008669</td>\n",
       "    </tr>\n",
       "    <tr>\n",
       "      <th>15</th>\n",
       "      <td>Huila</td>\n",
       "      <td>0.008302</td>\n",
       "    </tr>\n",
       "    <tr>\n",
       "      <th>16</th>\n",
       "      <td>Norte de Santander</td>\n",
       "      <td>0.007941</td>\n",
       "    </tr>\n",
       "    <tr>\n",
       "      <th>17</th>\n",
       "      <td>Magdalena</td>\n",
       "      <td>0.006626</td>\n",
       "    </tr>\n",
       "    <tr>\n",
       "      <th>18</th>\n",
       "      <td>Cesar</td>\n",
       "      <td>0.005918</td>\n",
       "    </tr>\n",
       "    <tr>\n",
       "      <th>19</th>\n",
       "      <td>Córdoba</td>\n",
       "      <td>0.005888</td>\n",
       "    </tr>\n",
       "    <tr>\n",
       "      <th>20</th>\n",
       "      <td>Sucre</td>\n",
       "      <td>0.003349</td>\n",
       "    </tr>\n",
       "    <tr>\n",
       "      <th>21</th>\n",
       "      <td>Casanare</td>\n",
       "      <td>0.002470</td>\n",
       "    </tr>\n",
       "    <tr>\n",
       "      <th>22</th>\n",
       "      <td>La Guajira</td>\n",
       "      <td>0.002150</td>\n",
       "    </tr>\n",
       "    <tr>\n",
       "      <th>23</th>\n",
       "      <td>Caquetá</td>\n",
       "      <td>0.001352</td>\n",
       "    </tr>\n",
       "    <tr>\n",
       "      <th>24</th>\n",
       "      <td>Chocó</td>\n",
       "      <td>0.000633</td>\n",
       "    </tr>\n",
       "    <tr>\n",
       "      <th>25</th>\n",
       "      <td>Arauca</td>\n",
       "      <td>0.000563</td>\n",
       "    </tr>\n",
       "    <tr>\n",
       "      <th>26</th>\n",
       "      <td>Putumayo</td>\n",
       "      <td>0.000459</td>\n",
       "    </tr>\n",
       "    <tr>\n",
       "      <th>27</th>\n",
       "      <td>Guaviare</td>\n",
       "      <td>0.000251</td>\n",
       "    </tr>\n",
       "    <tr>\n",
       "      <th>28</th>\n",
       "      <td>San Andrés</td>\n",
       "      <td>0.000044</td>\n",
       "    </tr>\n",
       "    <tr>\n",
       "      <th>29</th>\n",
       "      <td>Vichada</td>\n",
       "      <td>0.000015</td>\n",
       "    </tr>\n",
       "  </tbody>\n",
       "</table>\n",
       "</div>"
      ],
      "text/plain": [
       "          departamento  proporcion\n",
       "0          Bogotá D.C.    0.319808\n",
       "1            Antioquia    0.225297\n",
       "2      Valle del Cauca    0.133349\n",
       "3         Cundinamarca    0.052786\n",
       "4            Atlántico    0.050057\n",
       "5            Santander    0.029879\n",
       "6            Risaralda    0.028827\n",
       "7               Caldas    0.022516\n",
       "8              Bolívar    0.019757\n",
       "9               Tolima    0.018147\n",
       "10              Boyacá    0.012510\n",
       "11                Meta    0.012342\n",
       "12             Quindío    0.010067\n",
       "13               Cauca    0.010030\n",
       "14              Nariño    0.008669\n",
       "15               Huila    0.008302\n",
       "16  Norte de Santander    0.007941\n",
       "17           Magdalena    0.006626\n",
       "18               Cesar    0.005918\n",
       "19             Córdoba    0.005888\n",
       "20               Sucre    0.003349\n",
       "21            Casanare    0.002470\n",
       "22          La Guajira    0.002150\n",
       "23             Caquetá    0.001352\n",
       "24               Chocó    0.000633\n",
       "25              Arauca    0.000563\n",
       "26            Putumayo    0.000459\n",
       "27            Guaviare    0.000251\n",
       "28          San Andrés    0.000044\n",
       "29             Vichada    0.000015"
      ]
     },
     "execution_count": 63,
     "metadata": {},
     "output_type": "execute_result"
    }
   ],
   "source": [
    "df_filtered['departamento'].value_counts(normalize=True).rename_axis('departamento').reset_index(name='proporcion')"
   ]
  },
  {
   "cell_type": "code",
   "execution_count": 106,
   "id": "38292f96",
   "metadata": {},
   "outputs": [],
   "source": [
    "df_filtered['ciudad_dpto'] = df_filtered['ciudad'] + ' - ' + df_filtered['departamento']"
   ]
  },
  {
   "cell_type": "code",
   "execution_count": 107,
   "id": "0dee4bc3",
   "metadata": {},
   "outputs": [],
   "source": [
    "data_path = \"C:/Allianz/prueba_allianz/data/processed/allianz_consolidado_imputado.csv\"\n",
    "df_filtered.to_csv(data_path, sep=\";\", encoding=\"utf-8\", index=False)"
   ]
  },
  {
   "cell_type": "code",
   "execution_count": 108,
   "id": "302f499c",
   "metadata": {},
   "outputs": [
    {
     "data": {
      "text/plain": [
       "Index(['fecha_registro', 'comparison_id', 'edad', 'ocupacion',\n",
       "       'tipo_identificacion', 'genero', 'fasecolda_id', 'marca',\n",
       "       'referencia_vehiculo', 'tipo_caja', 'valor_fasecolda', 'modelo',\n",
       "       'dane_id', 'ciudad', 'departamento_id', 'departamento',\n",
       "       'vehiculo_nuevo', 'aseguradora_producto', 'cotizacion_fecha',\n",
       "       'valor_prima', 'perdida_total_cobertura', 'perdida_parcial_deducible',\n",
       "       'rce_limite_unico', 'emitido_producto', 'emitido_cotizacion',\n",
       "       'source_file', 'delta_minutos', 'anio', 'mes', 'dia_semana', 'mes_anio',\n",
       "       'aseguradora_origen', 'producto_origen', 'emitido', 'ciudad_dpto'],\n",
       "      dtype='object')"
      ]
     },
     "execution_count": 108,
     "metadata": {},
     "output_type": "execute_result"
    }
   ],
   "source": [
    "df_filtered.columns"
   ]
  },
  {
   "cell_type": "code",
   "execution_count": 109,
   "id": "b73b6ab8",
   "metadata": {},
   "outputs": [
    {
     "data": {
      "text/plain": [
       "emitido\n",
       "0    521025\n",
       "1    163291\n",
       "Name: count, dtype: int64"
      ]
     },
     "execution_count": 109,
     "metadata": {},
     "output_type": "execute_result"
    }
   ],
   "source": [
    "df_filtered['emitido'].value_counts()"
   ]
  },
  {
   "cell_type": "code",
   "execution_count": 110,
   "id": "0ba9a01a",
   "metadata": {},
   "outputs": [
    {
     "data": {
      "text/plain": [
       "emitido_cotizacion\n",
       "False    681962\n",
       "True       2354\n",
       "Name: count, dtype: int64"
      ]
     },
     "execution_count": 110,
     "metadata": {},
     "output_type": "execute_result"
    }
   ],
   "source": [
    "df_filtered['emitido_cotizacion'].value_counts()"
   ]
  },
  {
   "cell_type": "code",
   "execution_count": 116,
   "id": "12ee2f36",
   "metadata": {},
   "outputs": [
    {
     "data": {
      "text/plain": [
       "np.int64(0)"
      ]
     },
     "execution_count": 116,
     "metadata": {},
     "output_type": "execute_result"
    }
   ],
   "source": [
    "df_filtered['emitido_producto'].isna().sum()"
   ]
  },
  {
   "cell_type": "code",
   "execution_count": 115,
   "id": "85f362ca",
   "metadata": {},
   "outputs": [],
   "source": [
    "df_filtered['emitido_producto'] = df_filtered['emitido_producto'].fillna('No_emitido')"
   ]
  },
  {
   "cell_type": "code",
   "execution_count": null,
   "id": "cc101e27",
   "metadata": {},
   "outputs": [],
   "source": [
    "#deleted_columns = ['fecha_registro', 'tipo_identificacion', 'dane_id', 'departamento_id', 'cotizacion_fecha', 'source_file', 'emitido_cotizacion']"
   ]
  },
  {
   "cell_type": "code",
   "execution_count": 100,
   "id": "661618e6",
   "metadata": {},
   "outputs": [
    {
     "name": "stdout",
     "output_type": "stream",
     "text": [
      "<class 'pandas.core.frame.DataFrame'>\n",
      "RangeIndex: 684316 entries, 0 to 684315\n",
      "Data columns (total 34 columns):\n",
      " #   Column                     Non-Null Count   Dtype         \n",
      "---  ------                     --------------   -----         \n",
      " 0   fecha_registro             684316 non-null  datetime64[ns]\n",
      " 1   comparison_id              684316 non-null  object        \n",
      " 2   edad                       684316 non-null  int64         \n",
      " 3   ocupacion                  684316 non-null  object        \n",
      " 4   tipo_identificacion        684316 non-null  object        \n",
      " 5   genero                     684316 non-null  object        \n",
      " 6   fasecolda_id               684316 non-null  object        \n",
      " 7   marca                      684316 non-null  object        \n",
      " 8   referencia_vehiculo        684316 non-null  object        \n",
      " 9   tipo_caja                  684316 non-null  object        \n",
      " 10  valor_fasecolda            684316 non-null  int64         \n",
      " 11  modelo                     684316 non-null  int64         \n",
      " 12  dane_id                    684316 non-null  object        \n",
      " 13  ciudad                     684316 non-null  object        \n",
      " 14  departamento_id            684316 non-null  object        \n",
      " 15  departamento               684316 non-null  object        \n",
      " 16  vehiculo_nuevo             684316 non-null  object        \n",
      " 17  aseguradora_producto       684316 non-null  object        \n",
      " 18  cotizacion_fecha           684316 non-null  datetime64[ns]\n",
      " 19  valor_prima                684316 non-null  float64       \n",
      " 20  perdida_total_cobertura    684316 non-null  object        \n",
      " 21  perdida_parcial_deducible  684316 non-null  object        \n",
      " 22  rce_limite_unico           684316 non-null  bool          \n",
      " 23  emitido_producto           163291 non-null  object        \n",
      " 24  emitido_cotizacion         684316 non-null  bool          \n",
      " 25  source_file                684316 non-null  object        \n",
      " 26  delta_minutos              684316 non-null  float64       \n",
      " 27  anio                       684316 non-null  int32         \n",
      " 28  mes                        684316 non-null  int32         \n",
      " 29  dia_semana                 684316 non-null  object        \n",
      " 30  mes_anio                   684316 non-null  datetime64[ns]\n",
      " 31  aseguradora_origen         684316 non-null  object        \n",
      " 32  producto_origen            684316 non-null  object        \n",
      " 33  emitido                    684316 non-null  int64         \n",
      "dtypes: bool(2), datetime64[ns](3), float64(2), int32(2), int64(4), object(21)\n",
      "memory usage: 163.2+ MB\n"
     ]
    }
   ],
   "source": [
    "df_filtered.info()"
   ]
  },
  {
   "cell_type": "code",
   "execution_count": 117,
   "id": "3abd8227",
   "metadata": {},
   "outputs": [],
   "source": [
    "data_path = \"C:/Allianz/prueba_allianz/data/processed/allianz_consolidado_imputado.csv\"\n",
    "df_filtered.to_csv(data_path, sep=\";\", encoding=\"utf-8\", index=False)"
   ]
  }
 ],
 "metadata": {
  "kernelspec": {
   "display_name": "venv",
   "language": "python",
   "name": "python3"
  },
  "language_info": {
   "codemirror_mode": {
    "name": "ipython",
    "version": 3
   },
   "file_extension": ".py",
   "mimetype": "text/x-python",
   "name": "python",
   "nbconvert_exporter": "python",
   "pygments_lexer": "ipython3",
   "version": "3.11.0"
  }
 },
 "nbformat": 4,
 "nbformat_minor": 5
}
