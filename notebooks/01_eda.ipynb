{
 "cells": [
  {
   "cell_type": "markdown",
   "id": "1b9921f5",
   "metadata": {},
   "source": [
    "## Allianz\n",
    "### Prueba Técnica para Científico de Datos\n",
    "Norma Giraldo"
   ]
  },
  {
   "cell_type": "code",
   "execution_count": 2,
   "id": "3ba0074e",
   "metadata": {},
   "outputs": [],
   "source": [
    "import pandas as pd\n",
    "import numpy as np\n",
    "import matplotlib.pyplot as plt\n",
    "import seaborn as sns\n",
    "from pathlib import Path\n",
    "\n",
    "# Configuración inicial\n",
    "pd.set_option('display.max_columns', None)\n",
    "sns.set(style=\"whitegrid\")"
   ]
  },
  {
   "cell_type": "code",
   "execution_count": null,
   "id": "0c2bb7b9",
   "metadata": {},
   "outputs": [],
   "source": [
    "# Ruta donde se encuentran los archivos\n",
    "data_dir = Path(\"C:/Allianz/prueba_allianz/data/raw\")\n",
    "\n",
    "# Archivos a cargar\n",
    "files = [\n",
    "    \"2024-8_Reporte_allianz.xlsx\",\n",
    "    \"2024-9_Reporte_allianz.xlsx\",\n",
    "    \"2024-10_Reporte_allianz.xlsx\",\n",
    "    \"2024-11_Reporte_allianz.xlsx\",\n",
    "    \"2024-12_Reporte_allianz.xlsx\",\n",
    "    \"2025-1_Reporte_allianz.xlsx\",\n",
    "]\n",
    "\n",
    "# Cargar y concatenar todos los archivos\n",
    "df_list = []\n",
    "for file in files:\n",
    "    df = pd.read_excel(data_dir / file, engine='openpyxl')\n",
    "    df['mes'] = file.split(\"_\")[0]  # Añade columna con mes\n",
    "    df_list.append(df)\n",
    "\n",
    "df_all = pd.concat(df_list, ignore_index=True)\n",
    "print(\"Dimensiones totales:\", df_all.shape)\n",
    "df_all.head()\n"
   ]
  },
  {
   "cell_type": "code",
   "execution_count": null,
   "id": "a6e5403a",
   "metadata": {},
   "outputs": [],
   "source": []
  },
  {
   "cell_type": "code",
   "execution_count": null,
   "id": "831050e6",
   "metadata": {},
   "outputs": [],
   "source": []
  }
 ],
 "metadata": {
  "kernelspec": {
   "display_name": "venv",
   "language": "python",
   "name": "python3"
  },
  "language_info": {
   "codemirror_mode": {
    "name": "ipython",
    "version": 3
   },
   "file_extension": ".py",
   "mimetype": "text/x-python",
   "name": "python",
   "nbconvert_exporter": "python",
   "pygments_lexer": "ipython3",
   "version": "3.11.0"
  }
 },
 "nbformat": 4,
 "nbformat_minor": 5
}
